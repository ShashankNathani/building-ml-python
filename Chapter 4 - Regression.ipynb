{
 "cells": [
  {
   "cell_type": "markdown",
   "metadata": {},
   "source": [
    "<h1 align=\"center\">Regression</h1>"
   ]
  },
  {
   "cell_type": "markdown",
   "metadata": {},
   "source": [
    "## Overview\n",
    "\n",
    "This chapter covers\n",
    "\n",
    "+ Ordinary Least Squares Linear Regression\n",
    "\n",
    "+ Evaluation of regression results using coefficient of determination and $R^2$ score\n",
    "\n",
    "+ Lasso, Ridge and ElasticNets Regression"
   ]
  },
  {
   "cell_type": "code",
   "execution_count": 14,
   "metadata": {
    "collapsed": true
   },
   "outputs": [],
   "source": [
    "%matplotlib inline\n",
    "\n",
    "from sklearn.linear_model import LinearRegression, Lasso, LassoCV, Ridge, RidgeCV, ElasticNet, ElasticNetCV\n",
    "from sklearn.cross_validation import KFold\n",
    "from sklearn.datasets import load_boston\n",
    "from sklearn.metrics import mean_squared_error, r2_score\n",
    "\n",
    "import numpy as np\n",
    "import pandas as pd\n",
    "\n",
    "import matplotlib as mpl\n",
    "import matplotlib.pyplot as plt\n",
    "import seaborn as sb"
   ]
  },
  {
   "cell_type": "markdown",
   "metadata": {},
   "source": [
    "<br/>\n",
    "<br/>\n",
    "\n",
    "## Problem\n",
    "We have a dataset of house median prices in the Boston area, and a set of economic, environmental and building attributes for each house.\n",
    "\n",
    "The problem is to accurately predict median price of unseen houses.\n",
    "\n",
    "<br/>\n",
    "<br/>\n",
    "## Terminology\n",
    "\n",
    "+ **Regressors** are the **explanatory variables** used for modelling the relationship. Other terms are **independent variables** and **predictor variables**.\n",
    "\n",
    "<br/>\n",
    "\n",
    "+ The **dependent variable** is also called **regressand** or **response variable**.\n",
    "\n",
    "<br/>\n",
    "\n",
    "+ Phrases like _\"regression of W on Z\"_ or _\"we regress W on Z\"_ means we predict W based on Z. W is the dependent, Z is the predictor variable.\n",
    "\n",
    "<br/>\n",
    "\n",
    "+ **Simple Regression** is when just one explanatory variable is used to predict a single scalar dependent variable.\n",
    "\n",
    "<br/>\n",
    "\n",
    "+ **Multiple / Multivariable Regression** is when more than one explanatory variables are used to predict a single scalar dependent variable.\n",
    "\n",
    "<br/>\n",
    "\n",
    "+ **Multivariate Regression** is when regression is used to predict multiple correlated dependent variables, ie, predicting a vector of dependent variables. Don't confuse multi _variate_ with multi _variable_.\n",
    "\n",
    "<br/>\n",
    "<br/>\n",
    "## Understanding the concept of _Linear model_\n",
    "\n",
    "The idea behind Linear Regression is that dependent variable can be modelled as a linear combination of the predictor variables.\n",
    "\n",
    "$$ y = X\\beta + \\epsilon $$\n",
    "\n",
    "where $\\beta$ are called the **parameters** or **coefficients** of the model.\n",
    "\n",
    "It's important to understand here that the linearity refers to the _parameters_, not to the _predictor variables_.\n",
    "\n",
    "For example, if the distance travelled with respect to time ($s = ut + {1\\over2}gt^2$) can be modelled as $y = \\beta_1 t + \\beta_2 t^2+ \\epsilon $, its parameters can be calculated using linear regression. Even though the function is nonlinear with respect to time t, we can use regressors $(x_1, x_2) = (t, t^2)$ to make it linear with respect to parameters {$\\beta_1, \\beta_2$}.\n",
    "\n",
    "<br/>\n",
    "<br/>\n",
    "## Exploring the dataset\n",
    "\n",
    "Regression techniques are explored and evaluated using the _Boston House Prices_ dataset."
   ]
  },
  {
   "cell_type": "code",
   "execution_count": 15,
   "metadata": {
    "collapsed": false
   },
   "outputs": [
    {
     "name": "stdout",
     "output_type": "stream",
     "text": [
      "Boston House Prices dataset\n",
      "\n",
      "Notes\n",
      "------\n",
      "Data Set Characteristics:  \n",
      "\n",
      "    :Number of Instances: 506 \n",
      "\n",
      "    :Number of Attributes: 13 numeric/categorical predictive\n",
      "    \n",
      "    :Median Value (attribute 14) is usually the target\n",
      "\n",
      "    :Attribute Information (in order):\n",
      "        - CRIM     per capita crime rate by town\n",
      "        - ZN       proportion of residential land zoned for lots over 25,000 sq.ft.\n",
      "        - INDUS    proportion of non-retail business acres per town\n",
      "        - CHAS     Charles River dummy variable (= 1 if tract bounds river; 0 otherwise)\n",
      "        - NOX      nitric oxides concentration (parts per 10 million)\n",
      "        - RM       average number of rooms per dwelling\n",
      "        - AGE      proportion of owner-occupied units built prior to 1940\n",
      "        - DIS      weighted distances to five Boston employment centres\n",
      "        - RAD      index of accessibility to radial highways\n",
      "        - TAX      full-value property-tax rate per $10,000\n",
      "        - PTRATIO  pupil-teacher ratio by town\n",
      "        - B        1000(Bk - 0.63)^2 where Bk is the proportion of blacks by town\n",
      "        - LSTAT    % lower status of the population\n",
      "        - MEDV     Median value of owner-occupied homes in $1000's\n",
      "\n",
      "    :Missing Attribute Values: None\n",
      "\n",
      "    :Creator: Harrison, D. and Rubinfeld, D.L.\n",
      "\n",
      "This is a copy of UCI ML housing dataset.\n",
      "http://archive.ics.uci.edu/ml/datasets/Housing\n",
      "\n",
      "\n",
      "This dataset was taken from the StatLib library which is maintained at Carnegie Mellon University.\n",
      "\n",
      "The Boston house-price data of Harrison, D. and Rubinfeld, D.L. 'Hedonic\n",
      "prices and the demand for clean air', J. Environ. Economics & Management,\n",
      "vol.5, 81-102, 1978.   Used in Belsley, Kuh & Welsch, 'Regression diagnostics\n",
      "...', Wiley, 1980.   N.B. Various transformations are used in the table on\n",
      "pages 244-261 of the latter.\n",
      "\n",
      "The Boston house-price data has been used in many machine learning papers that address regression\n",
      "problems.   \n",
      "     \n",
      "**References**\n",
      "\n",
      "   - Belsley, Kuh & Welsch, 'Regression diagnostics: Identifying Influential Data and Sources of Collinearity', Wiley, 1980. 244-261.\n",
      "   - Quinlan,R. (1993). Combining Instance-Based and Model-Based Learning. In Proceedings on the Tenth International Conference of Machine Learning, 236-243, University of Massachusetts, Amherst. Morgan Kaufmann.\n",
      "   - many more! (see http://archive.ics.uci.edu/ml/datasets/Housing)\n",
      "\n"
     ]
    }
   ],
   "source": [
    "boston = load_boston()\n",
    "print(boston.DESCR)"
   ]
  },
  {
   "cell_type": "code",
   "execution_count": 16,
   "metadata": {
    "collapsed": false
   },
   "outputs": [
    {
     "data": {
      "text/plain": [
       "(506, 13)"
      ]
     },
     "execution_count": 16,
     "metadata": {},
     "output_type": "execute_result"
    }
   ],
   "source": [
    "bdata = boston.data\n",
    "bdata.shape"
   ]
  },
  {
   "cell_type": "code",
   "execution_count": 17,
   "metadata": {
    "collapsed": false
   },
   "outputs": [
    {
     "data": {
      "text/plain": [
       "array([[  6.32000000e-03,   1.80000000e+01,   2.31000000e+00,\n",
       "          0.00000000e+00,   5.38000000e-01,   6.57500000e+00,\n",
       "          6.52000000e+01,   4.09000000e+00,   1.00000000e+00,\n",
       "          2.96000000e+02,   1.53000000e+01,   3.96900000e+02,\n",
       "          4.98000000e+00],\n",
       "       [  2.73100000e-02,   0.00000000e+00,   7.07000000e+00,\n",
       "          0.00000000e+00,   4.69000000e-01,   6.42100000e+00,\n",
       "          7.89000000e+01,   4.96710000e+00,   2.00000000e+00,\n",
       "          2.42000000e+02,   1.78000000e+01,   3.96900000e+02,\n",
       "          9.14000000e+00],\n",
       "       [  2.72900000e-02,   0.00000000e+00,   7.07000000e+00,\n",
       "          0.00000000e+00,   4.69000000e-01,   7.18500000e+00,\n",
       "          6.11000000e+01,   4.96710000e+00,   2.00000000e+00,\n",
       "          2.42000000e+02,   1.78000000e+01,   3.92830000e+02,\n",
       "          4.03000000e+00]])"
      ]
     },
     "execution_count": 17,
     "metadata": {},
     "output_type": "execute_result"
    }
   ],
   "source": [
    "bdata[:3]"
   ]
  },
  {
   "cell_type": "code",
   "execution_count": 18,
   "metadata": {
    "collapsed": false
   },
   "outputs": [
    {
     "data": {
      "text/plain": [
       "array([ 24. ,  21.6,  34.7,  33.4,  36.2])"
      ]
     },
     "execution_count": 18,
     "metadata": {},
     "output_type": "execute_result"
    }
   ],
   "source": [
    "prices = boston.target\n",
    "prices[:5]"
   ]
  },
  {
   "cell_type": "code",
   "execution_count": 33,
   "metadata": {
    "collapsed": false
   },
   "outputs": [],
   "source": [
    "# We also calculate the Bk value (proportion of blacks) from B. \n",
    "# I think the idea behind B column is like this: the maximum proportion of blacks in survey is 0.63\n",
    "# If the proportion is close to this maximum, B value is relatively high\n",
    "# If the proportion is very low and very far from this maximum, B value is low.\n",
    "bk = np.sqrt(bdata[:,11] / 1000)\n",
    "\n",
    "boston_df = pd.DataFrame(data = np.c_[bdata,bk,prices],\n",
    "                         columns = list(boston['feature_names']) + ['BK', 'price'])"
   ]
  },
  {
   "cell_type": "code",
   "execution_count": 34,
   "metadata": {
    "collapsed": false
   },
   "outputs": [
    {
     "data": {
      "text/html": [
       "<div>\n",
       "<table border=\"1\" class=\"dataframe\">\n",
       "  <thead>\n",
       "    <tr style=\"text-align: right;\">\n",
       "      <th></th>\n",
       "      <th>CRIM</th>\n",
       "      <th>ZN</th>\n",
       "      <th>INDUS</th>\n",
       "      <th>CHAS</th>\n",
       "      <th>NOX</th>\n",
       "      <th>RM</th>\n",
       "      <th>AGE</th>\n",
       "      <th>DIS</th>\n",
       "      <th>RAD</th>\n",
       "      <th>TAX</th>\n",
       "      <th>PTRATIO</th>\n",
       "      <th>B</th>\n",
       "      <th>LSTAT</th>\n",
       "      <th>BK</th>\n",
       "      <th>price</th>\n",
       "    </tr>\n",
       "  </thead>\n",
       "  <tbody>\n",
       "    <tr>\n",
       "      <th>0</th>\n",
       "      <td>0.00632</td>\n",
       "      <td>18.0</td>\n",
       "      <td>2.31</td>\n",
       "      <td>0.0</td>\n",
       "      <td>0.538</td>\n",
       "      <td>6.575</td>\n",
       "      <td>65.2</td>\n",
       "      <td>4.0900</td>\n",
       "      <td>1.0</td>\n",
       "      <td>296.0</td>\n",
       "      <td>15.3</td>\n",
       "      <td>396.90</td>\n",
       "      <td>4.98</td>\n",
       "      <td>0.630000</td>\n",
       "      <td>24.0</td>\n",
       "    </tr>\n",
       "    <tr>\n",
       "      <th>1</th>\n",
       "      <td>0.02731</td>\n",
       "      <td>0.0</td>\n",
       "      <td>7.07</td>\n",
       "      <td>0.0</td>\n",
       "      <td>0.469</td>\n",
       "      <td>6.421</td>\n",
       "      <td>78.9</td>\n",
       "      <td>4.9671</td>\n",
       "      <td>2.0</td>\n",
       "      <td>242.0</td>\n",
       "      <td>17.8</td>\n",
       "      <td>396.90</td>\n",
       "      <td>9.14</td>\n",
       "      <td>0.630000</td>\n",
       "      <td>21.6</td>\n",
       "    </tr>\n",
       "    <tr>\n",
       "      <th>2</th>\n",
       "      <td>0.02729</td>\n",
       "      <td>0.0</td>\n",
       "      <td>7.07</td>\n",
       "      <td>0.0</td>\n",
       "      <td>0.469</td>\n",
       "      <td>7.185</td>\n",
       "      <td>61.1</td>\n",
       "      <td>4.9671</td>\n",
       "      <td>2.0</td>\n",
       "      <td>242.0</td>\n",
       "      <td>17.8</td>\n",
       "      <td>392.83</td>\n",
       "      <td>4.03</td>\n",
       "      <td>0.626762</td>\n",
       "      <td>34.7</td>\n",
       "    </tr>\n",
       "    <tr>\n",
       "      <th>3</th>\n",
       "      <td>0.03237</td>\n",
       "      <td>0.0</td>\n",
       "      <td>2.18</td>\n",
       "      <td>0.0</td>\n",
       "      <td>0.458</td>\n",
       "      <td>6.998</td>\n",
       "      <td>45.8</td>\n",
       "      <td>6.0622</td>\n",
       "      <td>3.0</td>\n",
       "      <td>222.0</td>\n",
       "      <td>18.7</td>\n",
       "      <td>394.63</td>\n",
       "      <td>2.94</td>\n",
       "      <td>0.628196</td>\n",
       "      <td>33.4</td>\n",
       "    </tr>\n",
       "    <tr>\n",
       "      <th>4</th>\n",
       "      <td>0.06905</td>\n",
       "      <td>0.0</td>\n",
       "      <td>2.18</td>\n",
       "      <td>0.0</td>\n",
       "      <td>0.458</td>\n",
       "      <td>7.147</td>\n",
       "      <td>54.2</td>\n",
       "      <td>6.0622</td>\n",
       "      <td>3.0</td>\n",
       "      <td>222.0</td>\n",
       "      <td>18.7</td>\n",
       "      <td>396.90</td>\n",
       "      <td>5.33</td>\n",
       "      <td>0.630000</td>\n",
       "      <td>36.2</td>\n",
       "    </tr>\n",
       "  </tbody>\n",
       "</table>\n",
       "</div>"
      ],
      "text/plain": [
       "      CRIM    ZN  INDUS  CHAS    NOX     RM   AGE     DIS  RAD    TAX  \\\n",
       "0  0.00632  18.0   2.31   0.0  0.538  6.575  65.2  4.0900  1.0  296.0   \n",
       "1  0.02731   0.0   7.07   0.0  0.469  6.421  78.9  4.9671  2.0  242.0   \n",
       "2  0.02729   0.0   7.07   0.0  0.469  7.185  61.1  4.9671  2.0  242.0   \n",
       "3  0.03237   0.0   2.18   0.0  0.458  6.998  45.8  6.0622  3.0  222.0   \n",
       "4  0.06905   0.0   2.18   0.0  0.458  7.147  54.2  6.0622  3.0  222.0   \n",
       "\n",
       "   PTRATIO       B  LSTAT        BK  price  \n",
       "0     15.3  396.90   4.98  0.630000   24.0  \n",
       "1     17.8  396.90   9.14  0.630000   21.6  \n",
       "2     17.8  392.83   4.03  0.626762   34.7  \n",
       "3     18.7  394.63   2.94  0.628196   33.4  \n",
       "4     18.7  396.90   5.33  0.630000   36.2  "
      ]
     },
     "execution_count": 34,
     "metadata": {},
     "output_type": "execute_result"
    }
   ],
   "source": [
    "boston_df.head()"
   ]
  },
  {
   "cell_type": "code",
   "execution_count": 35,
   "metadata": {
    "collapsed": false
   },
   "outputs": [
    {
     "data": {
      "text/html": [
       "<div>\n",
       "<table border=\"1\" class=\"dataframe\">\n",
       "  <thead>\n",
       "    <tr style=\"text-align: right;\">\n",
       "      <th></th>\n",
       "      <th>CRIM</th>\n",
       "      <th>ZN</th>\n",
       "      <th>INDUS</th>\n",
       "      <th>CHAS</th>\n",
       "      <th>NOX</th>\n",
       "      <th>RM</th>\n",
       "      <th>AGE</th>\n",
       "      <th>DIS</th>\n",
       "      <th>RAD</th>\n",
       "      <th>TAX</th>\n",
       "      <th>PTRATIO</th>\n",
       "      <th>B</th>\n",
       "      <th>LSTAT</th>\n",
       "      <th>BK</th>\n",
       "      <th>price</th>\n",
       "    </tr>\n",
       "  </thead>\n",
       "  <tbody>\n",
       "    <tr>\n",
       "      <th>count</th>\n",
       "      <td>506.000000</td>\n",
       "      <td>506.000000</td>\n",
       "      <td>506.000000</td>\n",
       "      <td>506.000000</td>\n",
       "      <td>506.000000</td>\n",
       "      <td>506.000000</td>\n",
       "      <td>506.000000</td>\n",
       "      <td>506.000000</td>\n",
       "      <td>506.000000</td>\n",
       "      <td>506.000000</td>\n",
       "      <td>506.000000</td>\n",
       "      <td>506.000000</td>\n",
       "      <td>506.000000</td>\n",
       "      <td>506.000000</td>\n",
       "      <td>506.000000</td>\n",
       "    </tr>\n",
       "    <tr>\n",
       "      <th>mean</th>\n",
       "      <td>3.593761</td>\n",
       "      <td>11.363636</td>\n",
       "      <td>11.136779</td>\n",
       "      <td>0.069170</td>\n",
       "      <td>0.554695</td>\n",
       "      <td>6.284634</td>\n",
       "      <td>68.574901</td>\n",
       "      <td>3.795043</td>\n",
       "      <td>9.549407</td>\n",
       "      <td>408.237154</td>\n",
       "      <td>18.455534</td>\n",
       "      <td>356.674032</td>\n",
       "      <td>12.653063</td>\n",
       "      <td>0.586303</td>\n",
       "      <td>22.532806</td>\n",
       "    </tr>\n",
       "    <tr>\n",
       "      <th>std</th>\n",
       "      <td>8.596783</td>\n",
       "      <td>23.322453</td>\n",
       "      <td>6.860353</td>\n",
       "      <td>0.253994</td>\n",
       "      <td>0.115878</td>\n",
       "      <td>0.702617</td>\n",
       "      <td>28.148861</td>\n",
       "      <td>2.105710</td>\n",
       "      <td>8.707259</td>\n",
       "      <td>168.537116</td>\n",
       "      <td>2.164946</td>\n",
       "      <td>91.294864</td>\n",
       "      <td>7.141062</td>\n",
       "      <td>0.113792</td>\n",
       "      <td>9.197104</td>\n",
       "    </tr>\n",
       "    <tr>\n",
       "      <th>min</th>\n",
       "      <td>0.006320</td>\n",
       "      <td>0.000000</td>\n",
       "      <td>0.460000</td>\n",
       "      <td>0.000000</td>\n",
       "      <td>0.385000</td>\n",
       "      <td>3.561000</td>\n",
       "      <td>2.900000</td>\n",
       "      <td>1.129600</td>\n",
       "      <td>1.000000</td>\n",
       "      <td>187.000000</td>\n",
       "      <td>12.600000</td>\n",
       "      <td>0.320000</td>\n",
       "      <td>1.730000</td>\n",
       "      <td>0.017889</td>\n",
       "      <td>5.000000</td>\n",
       "    </tr>\n",
       "    <tr>\n",
       "      <th>25%</th>\n",
       "      <td>0.082045</td>\n",
       "      <td>0.000000</td>\n",
       "      <td>5.190000</td>\n",
       "      <td>0.000000</td>\n",
       "      <td>0.449000</td>\n",
       "      <td>5.885500</td>\n",
       "      <td>45.025000</td>\n",
       "      <td>2.100175</td>\n",
       "      <td>4.000000</td>\n",
       "      <td>279.000000</td>\n",
       "      <td>17.400000</td>\n",
       "      <td>375.377500</td>\n",
       "      <td>6.950000</td>\n",
       "      <td>0.612681</td>\n",
       "      <td>17.025000</td>\n",
       "    </tr>\n",
       "    <tr>\n",
       "      <th>50%</th>\n",
       "      <td>0.256510</td>\n",
       "      <td>0.000000</td>\n",
       "      <td>9.690000</td>\n",
       "      <td>0.000000</td>\n",
       "      <td>0.538000</td>\n",
       "      <td>6.208500</td>\n",
       "      <td>77.500000</td>\n",
       "      <td>3.207450</td>\n",
       "      <td>5.000000</td>\n",
       "      <td>330.000000</td>\n",
       "      <td>19.050000</td>\n",
       "      <td>391.440000</td>\n",
       "      <td>11.360000</td>\n",
       "      <td>0.625652</td>\n",
       "      <td>21.200000</td>\n",
       "    </tr>\n",
       "    <tr>\n",
       "      <th>75%</th>\n",
       "      <td>3.647423</td>\n",
       "      <td>12.500000</td>\n",
       "      <td>18.100000</td>\n",
       "      <td>0.000000</td>\n",
       "      <td>0.624000</td>\n",
       "      <td>6.623500</td>\n",
       "      <td>94.075000</td>\n",
       "      <td>5.188425</td>\n",
       "      <td>24.000000</td>\n",
       "      <td>666.000000</td>\n",
       "      <td>20.200000</td>\n",
       "      <td>396.225000</td>\n",
       "      <td>16.955000</td>\n",
       "      <td>0.629464</td>\n",
       "      <td>25.000000</td>\n",
       "    </tr>\n",
       "    <tr>\n",
       "      <th>max</th>\n",
       "      <td>88.976200</td>\n",
       "      <td>100.000000</td>\n",
       "      <td>27.740000</td>\n",
       "      <td>1.000000</td>\n",
       "      <td>0.871000</td>\n",
       "      <td>8.780000</td>\n",
       "      <td>100.000000</td>\n",
       "      <td>12.126500</td>\n",
       "      <td>24.000000</td>\n",
       "      <td>711.000000</td>\n",
       "      <td>22.000000</td>\n",
       "      <td>396.900000</td>\n",
       "      <td>37.970000</td>\n",
       "      <td>0.630000</td>\n",
       "      <td>50.000000</td>\n",
       "    </tr>\n",
       "  </tbody>\n",
       "</table>\n",
       "</div>"
      ],
      "text/plain": [
       "             CRIM          ZN       INDUS        CHAS         NOX          RM  \\\n",
       "count  506.000000  506.000000  506.000000  506.000000  506.000000  506.000000   \n",
       "mean     3.593761   11.363636   11.136779    0.069170    0.554695    6.284634   \n",
       "std      8.596783   23.322453    6.860353    0.253994    0.115878    0.702617   \n",
       "min      0.006320    0.000000    0.460000    0.000000    0.385000    3.561000   \n",
       "25%      0.082045    0.000000    5.190000    0.000000    0.449000    5.885500   \n",
       "50%      0.256510    0.000000    9.690000    0.000000    0.538000    6.208500   \n",
       "75%      3.647423   12.500000   18.100000    0.000000    0.624000    6.623500   \n",
       "max     88.976200  100.000000   27.740000    1.000000    0.871000    8.780000   \n",
       "\n",
       "              AGE         DIS         RAD         TAX     PTRATIO           B  \\\n",
       "count  506.000000  506.000000  506.000000  506.000000  506.000000  506.000000   \n",
       "mean    68.574901    3.795043    9.549407  408.237154   18.455534  356.674032   \n",
       "std     28.148861    2.105710    8.707259  168.537116    2.164946   91.294864   \n",
       "min      2.900000    1.129600    1.000000  187.000000   12.600000    0.320000   \n",
       "25%     45.025000    2.100175    4.000000  279.000000   17.400000  375.377500   \n",
       "50%     77.500000    3.207450    5.000000  330.000000   19.050000  391.440000   \n",
       "75%     94.075000    5.188425   24.000000  666.000000   20.200000  396.225000   \n",
       "max    100.000000   12.126500   24.000000  711.000000   22.000000  396.900000   \n",
       "\n",
       "            LSTAT          BK       price  \n",
       "count  506.000000  506.000000  506.000000  \n",
       "mean    12.653063    0.586303   22.532806  \n",
       "std      7.141062    0.113792    9.197104  \n",
       "min      1.730000    0.017889    5.000000  \n",
       "25%      6.950000    0.612681   17.025000  \n",
       "50%     11.360000    0.625652   21.200000  \n",
       "75%     16.955000    0.629464   25.000000  \n",
       "max     37.970000    0.630000   50.000000  "
      ]
     },
     "execution_count": 35,
     "metadata": {},
     "output_type": "execute_result"
    }
   ],
   "source": [
    "boston_df.describe()"
   ]
  },
  {
   "cell_type": "markdown",
   "metadata": {},
   "source": [
    "<br/>\n",
    "<br/>\n",
    "### Correlation Matrix\n",
    "\n",
    "We draw a correlation matrix to find out which explanatory variables correlate highly with each other, as well which ones explain the output price best."
   ]
  },
  {
   "cell_type": "code",
   "execution_count": 36,
   "metadata": {
    "collapsed": false
   },
   "outputs": [
    {
     "data": {
      "text/html": [
       "<div>\n",
       "<table border=\"1\" class=\"dataframe\">\n",
       "  <thead>\n",
       "    <tr style=\"text-align: right;\">\n",
       "      <th></th>\n",
       "      <th>CRIM</th>\n",
       "      <th>ZN</th>\n",
       "      <th>INDUS</th>\n",
       "      <th>CHAS</th>\n",
       "      <th>NOX</th>\n",
       "      <th>RM</th>\n",
       "      <th>AGE</th>\n",
       "      <th>DIS</th>\n",
       "      <th>RAD</th>\n",
       "      <th>TAX</th>\n",
       "      <th>PTRATIO</th>\n",
       "      <th>B</th>\n",
       "      <th>LSTAT</th>\n",
       "      <th>BK</th>\n",
       "      <th>price</th>\n",
       "    </tr>\n",
       "  </thead>\n",
       "  <tbody>\n",
       "    <tr>\n",
       "      <th>CRIM</th>\n",
       "      <td>1.000000</td>\n",
       "      <td>-0.199458</td>\n",
       "      <td>0.404471</td>\n",
       "      <td>-0.055295</td>\n",
       "      <td>0.417521</td>\n",
       "      <td>-0.219940</td>\n",
       "      <td>0.350784</td>\n",
       "      <td>-0.377904</td>\n",
       "      <td>0.622029</td>\n",
       "      <td>0.579564</td>\n",
       "      <td>0.288250</td>\n",
       "      <td>-0.377365</td>\n",
       "      <td>0.452220</td>\n",
       "      <td>-0.378114</td>\n",
       "      <td>-0.385832</td>\n",
       "    </tr>\n",
       "    <tr>\n",
       "      <th>ZN</th>\n",
       "      <td>-0.199458</td>\n",
       "      <td>1.000000</td>\n",
       "      <td>-0.533828</td>\n",
       "      <td>-0.042697</td>\n",
       "      <td>-0.516604</td>\n",
       "      <td>0.311991</td>\n",
       "      <td>-0.569537</td>\n",
       "      <td>0.664408</td>\n",
       "      <td>-0.311948</td>\n",
       "      <td>-0.314563</td>\n",
       "      <td>-0.391679</td>\n",
       "      <td>0.175520</td>\n",
       "      <td>-0.412995</td>\n",
       "      <td>0.161902</td>\n",
       "      <td>0.360445</td>\n",
       "    </tr>\n",
       "    <tr>\n",
       "      <th>INDUS</th>\n",
       "      <td>0.404471</td>\n",
       "      <td>-0.533828</td>\n",
       "      <td>1.000000</td>\n",
       "      <td>0.062938</td>\n",
       "      <td>0.763651</td>\n",
       "      <td>-0.391676</td>\n",
       "      <td>0.644779</td>\n",
       "      <td>-0.708027</td>\n",
       "      <td>0.595129</td>\n",
       "      <td>0.720760</td>\n",
       "      <td>0.383248</td>\n",
       "      <td>-0.356977</td>\n",
       "      <td>0.603800</td>\n",
       "      <td>-0.329525</td>\n",
       "      <td>-0.483725</td>\n",
       "    </tr>\n",
       "    <tr>\n",
       "      <th>CHAS</th>\n",
       "      <td>-0.055295</td>\n",
       "      <td>-0.042697</td>\n",
       "      <td>0.062938</td>\n",
       "      <td>1.000000</td>\n",
       "      <td>0.091203</td>\n",
       "      <td>0.091251</td>\n",
       "      <td>0.086518</td>\n",
       "      <td>-0.099176</td>\n",
       "      <td>-0.007368</td>\n",
       "      <td>-0.035587</td>\n",
       "      <td>-0.121515</td>\n",
       "      <td>0.048788</td>\n",
       "      <td>-0.053929</td>\n",
       "      <td>0.052462</td>\n",
       "      <td>0.175260</td>\n",
       "    </tr>\n",
       "    <tr>\n",
       "      <th>NOX</th>\n",
       "      <td>0.417521</td>\n",
       "      <td>-0.516604</td>\n",
       "      <td>0.763651</td>\n",
       "      <td>0.091203</td>\n",
       "      <td>1.000000</td>\n",
       "      <td>-0.302188</td>\n",
       "      <td>0.731470</td>\n",
       "      <td>-0.769230</td>\n",
       "      <td>0.611441</td>\n",
       "      <td>0.668023</td>\n",
       "      <td>0.188933</td>\n",
       "      <td>-0.380051</td>\n",
       "      <td>0.590879</td>\n",
       "      <td>-0.348658</td>\n",
       "      <td>-0.427321</td>\n",
       "    </tr>\n",
       "    <tr>\n",
       "      <th>RM</th>\n",
       "      <td>-0.219940</td>\n",
       "      <td>0.311991</td>\n",
       "      <td>-0.391676</td>\n",
       "      <td>0.091251</td>\n",
       "      <td>-0.302188</td>\n",
       "      <td>1.000000</td>\n",
       "      <td>-0.240265</td>\n",
       "      <td>0.205246</td>\n",
       "      <td>-0.209847</td>\n",
       "      <td>-0.292048</td>\n",
       "      <td>-0.355501</td>\n",
       "      <td>0.128069</td>\n",
       "      <td>-0.613808</td>\n",
       "      <td>0.108286</td>\n",
       "      <td>0.695360</td>\n",
       "    </tr>\n",
       "    <tr>\n",
       "      <th>AGE</th>\n",
       "      <td>0.350784</td>\n",
       "      <td>-0.569537</td>\n",
       "      <td>0.644779</td>\n",
       "      <td>0.086518</td>\n",
       "      <td>0.731470</td>\n",
       "      <td>-0.240265</td>\n",
       "      <td>1.000000</td>\n",
       "      <td>-0.747881</td>\n",
       "      <td>0.456022</td>\n",
       "      <td>0.506456</td>\n",
       "      <td>0.261515</td>\n",
       "      <td>-0.273534</td>\n",
       "      <td>0.602339</td>\n",
       "      <td>-0.250592</td>\n",
       "      <td>-0.376955</td>\n",
       "    </tr>\n",
       "    <tr>\n",
       "      <th>DIS</th>\n",
       "      <td>-0.377904</td>\n",
       "      <td>0.664408</td>\n",
       "      <td>-0.708027</td>\n",
       "      <td>-0.099176</td>\n",
       "      <td>-0.769230</td>\n",
       "      <td>0.205246</td>\n",
       "      <td>-0.747881</td>\n",
       "      <td>1.000000</td>\n",
       "      <td>-0.494588</td>\n",
       "      <td>-0.534432</td>\n",
       "      <td>-0.232471</td>\n",
       "      <td>0.291512</td>\n",
       "      <td>-0.496996</td>\n",
       "      <td>0.270628</td>\n",
       "      <td>0.249929</td>\n",
       "    </tr>\n",
       "    <tr>\n",
       "      <th>RAD</th>\n",
       "      <td>0.622029</td>\n",
       "      <td>-0.311948</td>\n",
       "      <td>0.595129</td>\n",
       "      <td>-0.007368</td>\n",
       "      <td>0.611441</td>\n",
       "      <td>-0.209847</td>\n",
       "      <td>0.456022</td>\n",
       "      <td>-0.494588</td>\n",
       "      <td>1.000000</td>\n",
       "      <td>0.910228</td>\n",
       "      <td>0.464741</td>\n",
       "      <td>-0.444413</td>\n",
       "      <td>0.488676</td>\n",
       "      <td>-0.435129</td>\n",
       "      <td>-0.381626</td>\n",
       "    </tr>\n",
       "    <tr>\n",
       "      <th>TAX</th>\n",
       "      <td>0.579564</td>\n",
       "      <td>-0.314563</td>\n",
       "      <td>0.720760</td>\n",
       "      <td>-0.035587</td>\n",
       "      <td>0.668023</td>\n",
       "      <td>-0.292048</td>\n",
       "      <td>0.506456</td>\n",
       "      <td>-0.534432</td>\n",
       "      <td>0.910228</td>\n",
       "      <td>1.000000</td>\n",
       "      <td>0.460853</td>\n",
       "      <td>-0.441808</td>\n",
       "      <td>0.543993</td>\n",
       "      <td>-0.425038</td>\n",
       "      <td>-0.468536</td>\n",
       "    </tr>\n",
       "    <tr>\n",
       "      <th>PTRATIO</th>\n",
       "      <td>0.288250</td>\n",
       "      <td>-0.391679</td>\n",
       "      <td>0.383248</td>\n",
       "      <td>-0.121515</td>\n",
       "      <td>0.188933</td>\n",
       "      <td>-0.355501</td>\n",
       "      <td>0.261515</td>\n",
       "      <td>-0.232471</td>\n",
       "      <td>0.464741</td>\n",
       "      <td>0.460853</td>\n",
       "      <td>1.000000</td>\n",
       "      <td>-0.177383</td>\n",
       "      <td>0.374044</td>\n",
       "      <td>-0.182634</td>\n",
       "      <td>-0.507787</td>\n",
       "    </tr>\n",
       "    <tr>\n",
       "      <th>B</th>\n",
       "      <td>-0.377365</td>\n",
       "      <td>0.175520</td>\n",
       "      <td>-0.356977</td>\n",
       "      <td>0.048788</td>\n",
       "      <td>-0.380051</td>\n",
       "      <td>0.128069</td>\n",
       "      <td>-0.273534</td>\n",
       "      <td>0.291512</td>\n",
       "      <td>-0.444413</td>\n",
       "      <td>-0.441808</td>\n",
       "      <td>-0.177383</td>\n",
       "      <td>1.000000</td>\n",
       "      <td>-0.366087</td>\n",
       "      <td>0.987420</td>\n",
       "      <td>0.333461</td>\n",
       "    </tr>\n",
       "    <tr>\n",
       "      <th>LSTAT</th>\n",
       "      <td>0.452220</td>\n",
       "      <td>-0.412995</td>\n",
       "      <td>0.603800</td>\n",
       "      <td>-0.053929</td>\n",
       "      <td>0.590879</td>\n",
       "      <td>-0.613808</td>\n",
       "      <td>0.602339</td>\n",
       "      <td>-0.496996</td>\n",
       "      <td>0.488676</td>\n",
       "      <td>0.543993</td>\n",
       "      <td>0.374044</td>\n",
       "      <td>-0.366087</td>\n",
       "      <td>1.000000</td>\n",
       "      <td>-0.342650</td>\n",
       "      <td>-0.737663</td>\n",
       "    </tr>\n",
       "    <tr>\n",
       "      <th>BK</th>\n",
       "      <td>-0.378114</td>\n",
       "      <td>0.161902</td>\n",
       "      <td>-0.329525</td>\n",
       "      <td>0.052462</td>\n",
       "      <td>-0.348658</td>\n",
       "      <td>0.108286</td>\n",
       "      <td>-0.250592</td>\n",
       "      <td>0.270628</td>\n",
       "      <td>-0.435129</td>\n",
       "      <td>-0.425038</td>\n",
       "      <td>-0.182634</td>\n",
       "      <td>0.987420</td>\n",
       "      <td>-0.342650</td>\n",
       "      <td>1.000000</td>\n",
       "      <td>0.322276</td>\n",
       "    </tr>\n",
       "    <tr>\n",
       "      <th>price</th>\n",
       "      <td>-0.385832</td>\n",
       "      <td>0.360445</td>\n",
       "      <td>-0.483725</td>\n",
       "      <td>0.175260</td>\n",
       "      <td>-0.427321</td>\n",
       "      <td>0.695360</td>\n",
       "      <td>-0.376955</td>\n",
       "      <td>0.249929</td>\n",
       "      <td>-0.381626</td>\n",
       "      <td>-0.468536</td>\n",
       "      <td>-0.507787</td>\n",
       "      <td>0.333461</td>\n",
       "      <td>-0.737663</td>\n",
       "      <td>0.322276</td>\n",
       "      <td>1.000000</td>\n",
       "    </tr>\n",
       "  </tbody>\n",
       "</table>\n",
       "</div>"
      ],
      "text/plain": [
       "             CRIM        ZN     INDUS      CHAS       NOX        RM       AGE  \\\n",
       "CRIM     1.000000 -0.199458  0.404471 -0.055295  0.417521 -0.219940  0.350784   \n",
       "ZN      -0.199458  1.000000 -0.533828 -0.042697 -0.516604  0.311991 -0.569537   \n",
       "INDUS    0.404471 -0.533828  1.000000  0.062938  0.763651 -0.391676  0.644779   \n",
       "CHAS    -0.055295 -0.042697  0.062938  1.000000  0.091203  0.091251  0.086518   \n",
       "NOX      0.417521 -0.516604  0.763651  0.091203  1.000000 -0.302188  0.731470   \n",
       "RM      -0.219940  0.311991 -0.391676  0.091251 -0.302188  1.000000 -0.240265   \n",
       "AGE      0.350784 -0.569537  0.644779  0.086518  0.731470 -0.240265  1.000000   \n",
       "DIS     -0.377904  0.664408 -0.708027 -0.099176 -0.769230  0.205246 -0.747881   \n",
       "RAD      0.622029 -0.311948  0.595129 -0.007368  0.611441 -0.209847  0.456022   \n",
       "TAX      0.579564 -0.314563  0.720760 -0.035587  0.668023 -0.292048  0.506456   \n",
       "PTRATIO  0.288250 -0.391679  0.383248 -0.121515  0.188933 -0.355501  0.261515   \n",
       "B       -0.377365  0.175520 -0.356977  0.048788 -0.380051  0.128069 -0.273534   \n",
       "LSTAT    0.452220 -0.412995  0.603800 -0.053929  0.590879 -0.613808  0.602339   \n",
       "BK      -0.378114  0.161902 -0.329525  0.052462 -0.348658  0.108286 -0.250592   \n",
       "price   -0.385832  0.360445 -0.483725  0.175260 -0.427321  0.695360 -0.376955   \n",
       "\n",
       "              DIS       RAD       TAX   PTRATIO         B     LSTAT        BK  \\\n",
       "CRIM    -0.377904  0.622029  0.579564  0.288250 -0.377365  0.452220 -0.378114   \n",
       "ZN       0.664408 -0.311948 -0.314563 -0.391679  0.175520 -0.412995  0.161902   \n",
       "INDUS   -0.708027  0.595129  0.720760  0.383248 -0.356977  0.603800 -0.329525   \n",
       "CHAS    -0.099176 -0.007368 -0.035587 -0.121515  0.048788 -0.053929  0.052462   \n",
       "NOX     -0.769230  0.611441  0.668023  0.188933 -0.380051  0.590879 -0.348658   \n",
       "RM       0.205246 -0.209847 -0.292048 -0.355501  0.128069 -0.613808  0.108286   \n",
       "AGE     -0.747881  0.456022  0.506456  0.261515 -0.273534  0.602339 -0.250592   \n",
       "DIS      1.000000 -0.494588 -0.534432 -0.232471  0.291512 -0.496996  0.270628   \n",
       "RAD     -0.494588  1.000000  0.910228  0.464741 -0.444413  0.488676 -0.435129   \n",
       "TAX     -0.534432  0.910228  1.000000  0.460853 -0.441808  0.543993 -0.425038   \n",
       "PTRATIO -0.232471  0.464741  0.460853  1.000000 -0.177383  0.374044 -0.182634   \n",
       "B        0.291512 -0.444413 -0.441808 -0.177383  1.000000 -0.366087  0.987420   \n",
       "LSTAT   -0.496996  0.488676  0.543993  0.374044 -0.366087  1.000000 -0.342650   \n",
       "BK       0.270628 -0.435129 -0.425038 -0.182634  0.987420 -0.342650  1.000000   \n",
       "price    0.249929 -0.381626 -0.468536 -0.507787  0.333461 -0.737663  0.322276   \n",
       "\n",
       "            price  \n",
       "CRIM    -0.385832  \n",
       "ZN       0.360445  \n",
       "INDUS   -0.483725  \n",
       "CHAS     0.175260  \n",
       "NOX     -0.427321  \n",
       "RM       0.695360  \n",
       "AGE     -0.376955  \n",
       "DIS      0.249929  \n",
       "RAD     -0.381626  \n",
       "TAX     -0.468536  \n",
       "PTRATIO -0.507787  \n",
       "B        0.333461  \n",
       "LSTAT   -0.737663  \n",
       "BK       0.322276  \n",
       "price    1.000000  "
      ]
     },
     "execution_count": 36,
     "metadata": {},
     "output_type": "execute_result"
    }
   ],
   "source": [
    "corr = boston_df.corr()\n",
    "corr"
   ]
  },
  {
   "cell_type": "code",
   "execution_count": 37,
   "metadata": {
    "collapsed": false
   },
   "outputs": [
    {
     "data": {
      "image/png": "[encoded data removed]",
      "text/plain": [
       "<matplotlib.figure.Figure at 0x7f0d2a5ade48>"
      ]
     },
     "metadata": {},
     "output_type": "display_data"
    }
   ],
   "source": [
    "# Correlation plot based on https://stanford.edu/~mwaskom/software/seaborn/examples/many_pairwise_correlations.html\n",
    "\n",
    "plt.figure(figsize=(12, 10))\n",
    "sb.set(style=\"white\")\n",
    "\n",
    "# Create a mask to display just the lower triangle.\n",
    "mask = np.zeros_like(corr, dtype=np.bool)\n",
    "mask[np.triu_indices_from(mask)] = True\n",
    "\n",
    "sb.heatmap(corr, \n",
    "           cmap = sb.diverging_palette(220, 20, as_cmap=True),\n",
    "           mask = mask)\n",
    "plt.show()\n",
    "\n",
    "sb.set(style=\"darkgrid\")"
   ]
  },
  {
   "cell_type": "markdown",
   "metadata": {},
   "source": [
    "There are some interesting observations in that correlation plot:\n",
    "\n",
    "+ _price_ is highly positively correlated to _number of rooms_ (RM).\n",
    "\n",
    "+ _price_ is highly _negatively_ correlated to _percentage of lower status of population_ (LSTAT).\n",
    "\n",
    "+ There are also many interesting correlations between the explanatory variables themselves, suggesting that some pairs are not independent."
   ]
  },
  {
   "cell_type": "markdown",
   "metadata": {},
   "source": [
    "<br/>\n",
    "<br/>\n",
    "## Univariate or Simple Regression model - Regression with just a single variable\n",
    "\n",
    "First, we perform regression with just a single variable - RM, the average number of rooms per house."
   ]
  },
  {
   "cell_type": "code",
   "execution_count": 38,
   "metadata": {
    "collapsed": false
   },
   "outputs": [
    {
     "data": {
      "image/png": "[encoded data removed]",
      "text/plain": [
       "<matplotlib.figure.Figure at 0x7f0d2a5a34e0>"
      ]
     },
     "metadata": {},
     "output_type": "display_data"
    }
   ],
   "source": [
    "boston_df.plot('RM', 'price', kind='scatter', figsize=(12,8))\n",
    "plt.show()"
   ]
  },
  {
   "cell_type": "code",
   "execution_count": 39,
   "metadata": {
    "collapsed": false
   },
   "outputs": [],
   "source": [
    "lr = LinearRegression()\n",
    "X = boston_df.RM\n",
    "# LR does not accept 1D array. It should be reshaped to 2D array\n",
    "X = X.reshape(-1, 1)\n",
    "y_actual = boston_df.price\n",
    "lr.fit(X, y_actual)\n",
    "y_pred = lr.predict(X)"
   ]
  },
  {
   "cell_type": "code",
   "execution_count": 40,
   "metadata": {
    "collapsed": false
   },
   "outputs": [
    {
     "data": {
      "image/png": "[encoded data removed]",
      "text/plain": [
       "<matplotlib.figure.Figure at 0x7f0d28147ac8>"
      ]
     },
     "metadata": {},
     "output_type": "display_data"
    }
   ],
   "source": [
    "boston_df.plot('RM', 'price', kind='scatter', figsize=(12,8))\n",
    "plt.plot(X, y_pred, color='red')\n",
    "plt.show()"
   ]
  },
  {
   "cell_type": "markdown",
   "metadata": {},
   "source": [
    "### Evaluation of model fit\n",
    "\n",
    "The goodness of fit of a linear regression model is calculated using a metric known as the **Coefficient of Determination**, denoted by $R^2$ (pronounced \"R-squared\").\n",
    "\n",
    "R-squared is the \"percent of variance explained\" by the model.  That is, R-squared is the fraction by which the variance of prediction errors is less than the variance of the dependent variable.\n",
    "\n",
    "If we didn't know anything about the input data other than the prices, then our best prediction would simply be the mean of the output variable, $\\bar y$. The sum of squared errors would then be $\\sum (y_i - \\bar y)^2$, which is nothing but the _variance_ of the variable.\n",
    "\n",
    "$R^2$ is defined as the ratio of the sum of squared errors of predicted model to this intrinsic variance. \n",
    "\n",
    "$$ R^2 = 1 - {\\sum (y_i - \\hat y)^2 \\over \\sum (y_i - \\bar y)^2 } $$\n",
    "\n"
   ]
  },
  {
   "cell_type": "markdown",
   "metadata": {},
   "source": [
    "A perfect model would predict $\\hat y = y_i$, and result in an $R^2$ value of 1.\n",
    "\n",
    "A mean model would predict $\\hat y = \\bar y$, and result in an $R^2$ value of 0.\n",
    "\n",
    "<br/>\n",
    "<br/>\n",
    "Scikit-learn provides two ways to calculate the $R^2$ value:\n",
    "\n",
    "+ `sklearn.metrics.r2_score(y_true, y_pred)`\n",
    "\n",
    "or\n",
    "\n",
    "+ `score(X, y)` method of `sklearn.linear_model.LinearRegression` class"
   ]
  },
  {
   "cell_type": "code",
   "execution_count": 41,
   "metadata": {
    "collapsed": false
   },
   "outputs": [
    {
     "data": {
      "text/plain": [
       "0.48352545599133429"
      ]
     },
     "execution_count": 41,
     "metadata": {},
     "output_type": "execute_result"
    }
   ],
   "source": [
    "lr.score(X, y_actual)"
   ]
  },
  {
   "cell_type": "code",
   "execution_count": 42,
   "metadata": {
    "collapsed": false
   },
   "outputs": [
    {
     "data": {
      "text/plain": [
       "0.48352545599133423"
      ]
     },
     "execution_count": 42,
     "metadata": {},
     "output_type": "execute_result"
    }
   ],
   "source": [
    "r2_score(y_actual, y_pred)"
   ]
  },
  {
   "cell_type": "markdown",
   "metadata": {},
   "source": [
    "So our univariate model has a $R^2$ score of around 0.48."
   ]
  },
  {
   "cell_type": "markdown",
   "metadata": {},
   "source": [
    "<br/>\n",
    "<br/>\n",
    "<br/>\n",
    "\n",
    "## Multple Regression model - Regression using all explanatory variables"
   ]
  },
  {
   "cell_type": "code",
   "execution_count": 43,
   "metadata": {
    "collapsed": false
   },
   "outputs": [
    {
     "name": "stdout",
     "output_type": "stream",
     "text": [
      "R2 score= 0.742133242421\n",
      "RMSE= 4.66572579801\n",
      "Coefficients= [ -1.02528514e-01   4.62836725e-02   1.68126222e-02   2.68647827e+00\n",
      "  -1.82981497e+01   3.84475819e+00   4.56980898e-04  -1.48278912e+00\n",
      "   3.09445611e-01  -1.25286634e-02  -9.35769934e-01  -1.61653305e-02\n",
      "  -5.27672262e-01   2.06133020e+01]\n"
     ]
    }
   ],
   "source": [
    "lr_mult = LinearRegression()\n",
    "\n",
    "X_mult = boston_df.ix[:, 0:-1]\n",
    "\n",
    "lr_mult.fit(X_mult, y_actual)\n",
    "y_pred_mult = lr_mult.predict(X_mult)\n",
    "\n",
    "r2 = r2_score(y_actual, y_pred_mult)\n",
    "\n",
    "rmse = np.sqrt(mean_squared_error(y_actual, y_pred_mult))\n",
    "\n",
    "print('R2 score=', r2)\n",
    "print('RMSE=', rmse)\n",
    "print('Coefficients=', lr_mult.coef_)\n"
   ]
  },
  {
   "cell_type": "markdown",
   "metadata": {},
   "source": [
    "By using all the explanatory variables in the model, the $R^2$ score has been improved from 0.48 to 0.74"
   ]
  },
  {
   "cell_type": "markdown",
   "metadata": {},
   "source": [
    "<br/>\n",
    "<br/>\n",
    "Does normalization of predictor variables change the output values?"
   ]
  },
  {
   "cell_type": "code",
   "execution_count": 44,
   "metadata": {
    "collapsed": false
   },
   "outputs": [
    {
     "name": "stdout",
     "output_type": "stream",
     "text": [
      "R2 score= 0.742133242421\n",
      "RMSE= 4.66572579801\n",
      "Coefficients= [ -1.02528514e-01   4.62836725e-02   1.68126222e-02   2.68647827e+00\n",
      "  -1.82981497e+01   3.84475819e+00   4.56980898e-04  -1.48278912e+00\n",
      "   3.09445611e-01  -1.25286634e-02  -9.35769934e-01  -1.61653305e-02\n",
      "  -5.27672262e-01   2.06133020e+01]\n"
     ]
    }
   ],
   "source": [
    "lr_mult_with_norm = LinearRegression(normalize=True)\n",
    "\n",
    "lr_mult_with_norm.fit(X_mult, y_actual)\n",
    "y_pred_mult_norm = lr_mult_with_norm.predict(X_mult)\n",
    "\n",
    "r2 = r2_score(y_actual, y_pred_mult_norm)\n",
    "\n",
    "rmse = np.sqrt(mean_squared_error(y_actual, y_pred_mult_norm))\n",
    "\n",
    "print('R2 score=', r2)\n",
    "print('RMSE=', rmse)\n",
    "print('Coefficients=', lr_mult_with_norm.coef_)\n"
   ]
  },
  {
   "cell_type": "markdown",
   "metadata": {},
   "source": [
    "We can see that normalization does not seem to have any effect at all on R-squared or RMSE."
   ]
  },
  {
   "cell_type": "markdown",
   "metadata": {},
   "source": [
    "<br/>\n",
    "<br/>\n",
    "\n",
    "## Cross validation for regression\n",
    "\n",
    "So far, the only error that has been evaluated is the _training error_. Even though OLS linear regression, being a very simple model, is unlikely to suffer from overfitting, it is till good ML practice to evaluate every model for its generalizability by calculating its test error. \n",
    "\n",
    "For using CV for regression, we take the following approach:\n",
    "\n",
    "+ Split the data into k pairs of {training, test} subsets.\n",
    "\n",
    "+ For each training/test pair:\n",
    "\n",
    "    - Train a linear regression model on current training subset\n",
    "    \n",
    "    - Calculate output variable on test subset\n",
    "    \n",
    "    - Store calculated outputs in a common array. Since cross validation ensures that all observations are covered by exactly one of the test subsets, we will have calculated outputs for all observations when cross validation ends.\n",
    "    \n",
    "First, we test that our assumption about coverage of every observation in just one of the test subsets is correct:"
   ]
  },
  {
   "cell_type": "code",
   "execution_count": 45,
   "metadata": {
    "collapsed": false
   },
   "outputs": [
    {
     "name": "stdout",
     "output_type": "stream",
     "text": [
      "Without shuffling\n",
      "[0 1 2]\n",
      "[3 4 5]\n",
      "[6 7 8]\n",
      "[ 9 10 11]\n",
      "With shuffling\n",
      "[1 3 5]\n",
      "[ 4  8 10]\n",
      "[ 2  9 11]\n",
      "[0 6 7]\n"
     ]
    }
   ],
   "source": [
    "print('Without shuffling')\n",
    "tmp = np.zeros((12,3))\n",
    "tf = KFold(len(tmp), n_folds = 4)\n",
    "for tr,ts in tf:\n",
    "    print(ts)\n",
    "    \n",
    "print('With shuffling')\n",
    "tf = KFold(len(tmp), n_folds = 4, shuffle=True)\n",
    "for tr,ts in tf:\n",
    "    print(ts)"
   ]
  },
  {
   "cell_type": "markdown",
   "metadata": {},
   "source": [
    "We can see that in regular KFold without shuffling, every fold gets to be the test set in sequence. \n",
    "\n",
    "But with shuffling, every test set is a random subset, with sklearn ensuring that no observation is duplicated in different test subsets. This shows that KFold with shuffling is the better option for evaluating generalizability.\n",
    "\n",
    "<br/>\n",
    "\n",
    "Cross validation without shuffling:"
   ]
  },
  {
   "cell_type": "code",
   "execution_count": 46,
   "metadata": {
    "collapsed": false
   },
   "outputs": [
    {
     "name": "stdout",
     "output_type": "stream",
     "text": [
      "CV R2 score= 0.531816454815\n",
      "CV RMSE= 6.28679943088\n"
     ]
    }
   ],
   "source": [
    "y_pred_cv = np.zeros_like(y_actual)\n",
    "\n",
    "folds = KFold(len(X_mult), n_folds=5, shuffle =  False)\n",
    "for train, test in folds:\n",
    "    lr_mult_cv = LinearRegression()\n",
    "    lr_mult_cv.fit(X_mult.ix[train], y_actual.ix[train])\n",
    "    y_pred_cv[test] = lr_mult_cv.predict(X_mult.ix[test])\n",
    "    \n",
    "r2_cv = r2_score(y_actual, y_pred_cv)\n",
    "\n",
    "rmse_cv = np.sqrt(mean_squared_error(y_actual, y_pred_cv))\n",
    "\n",
    "print('CV R2 score=', r2_cv)\n",
    "print('CV RMSE=', rmse_cv)"
   ]
  },
  {
   "cell_type": "markdown",
   "metadata": {},
   "source": [
    "<br/>\n",
    "Cross validation with shuffling:"
   ]
  },
  {
   "cell_type": "code",
   "execution_count": 47,
   "metadata": {
    "collapsed": false
   },
   "outputs": [
    {
     "name": "stdout",
     "output_type": "stream",
     "text": [
      "CV R2 score= 0.70376365761\n",
      "CV RMSE= 5.00081398793\n"
     ]
    }
   ],
   "source": [
    "y_pred_cv = np.zeros_like(y_actual)\n",
    "\n",
    "folds = KFold(len(X_mult), n_folds=5, shuffle=True)\n",
    "for train, test in folds:\n",
    "    lr_mult_cv = LinearRegression()\n",
    "    lr_mult_cv.fit(X_mult.ix[train], y_actual.ix[train])\n",
    "    y_pred_cv[test] = lr_mult_cv.predict(X_mult.ix[test])\n",
    "    \n",
    "r2_cv = r2_score(y_actual, y_pred_cv)\n",
    "\n",
    "rmse_cv = np.sqrt(mean_squared_error(y_actual, y_pred_cv))\n",
    "\n",
    "print('CV R2 score=', r2_cv)\n",
    "print('CV RMSE=', rmse_cv)"
   ]
  },
  {
   "cell_type": "markdown",
   "metadata": {},
   "source": [
    "We see that cross validation with shuffling results in better $R^2$ score and lower RMSE than without shuffling."
   ]
  },
  {
   "cell_type": "markdown",
   "metadata": {},
   "source": [
    "<br/>\n",
    "<br/>\n",
    "\n",
    "## Regularized or Penalized Regression\n",
    "\n",
    "OLS may result in a low bias but high variance model. The low bias is due to overfitting on training data, but at the cost of high variance when predicting unseen observations.\n",
    "\n",
    "One way to reduce this variance is to use a subset of the most useful predictors. These methods are called _Subset selection methods_.\n",
    "\n",
    "Another somewhat equivalent way is by shrinking or zeroing the parameters / weights of some of the predictors. This results in increasing the bias - and the training error - but is likely to generalize better. There are called _Shrinkage Methods_.\n",
    "\n",
    "The idea here is that the model include the values of the parameters directly in the cost function so that higher weights increase the error. The optimization then naturally tries to reduce the values of these parameters. There are three types of penalties based on how we include these parameters:\n",
    "\n",
    "+ **L1-penalties**\n",
    "\n",
    "   The model penalizes the <span style=\"color:red\">_absolute values_</span> of the weights.\n",
    "   \n",
    "<br/>\n",
    "\n",
    "+ **L2-penalties**\n",
    "\n",
    "   The model penalizes the <span style=\"color:red\">_squared values_</span> of the weights.\n",
    "\n",
    "<br/>\n",
    "\n",
    "+ **Combination of L1 and L2 penalties**\n",
    "\n",
    "   The model penalizes both absolute and squared values of the weights.\n",
    "\n",
    "<br/>\n",
    "\n",
    "Accordingly, we have 3 shrinkage methods:\n",
    "\n",
    "**1. Lasso Regression**\n",
    "\n",
    "Includes the L1-penalty in cost function.\n",
    "   \n",
    "If $\\beta$ are the parameters, then the objective is to minimize the following cost function with absolute parameters:\n",
    "\n",
    "$$ \\sum_{i=1}^{n} (y_i - \\beta_0 - \\sum_{j=1}^{p} \\beta_j x_{ij})^2 + \\color{red} {\\alpha \\sum_{j=1}^{p} \\ \\bigl| \\ \\beta_j \\ \\bigr|} $$\n",
    "\n",
    "<br/>\n",
    "\n",
    "**2. Ridge Regression**\n",
    "\n",
    "Includes the L2-penalty in cost function.\n",
    "   \n",
    "If $\\beta$ are the parameters, then the objective is to minimize the following cost function with squared parameters:\n",
    "\n",
    "$$ \\sum_{i=1}^{n} (y_i - \\beta_0 - \\sum_{j=1}^{p} \\beta_j x_{ij})^2 + \\color{red} {\\alpha \\sum_{j=1}^{p} \\beta_j ^ 2} $$\n",
    "\n",
    "<br/>\n",
    "\n",
    "**3. ElasticNet**\n",
    "\n",
    "Includes both L1- and L2-penalty in cost function.\n",
    "\n",
    "$$ \\sum_{i=1}^{n} (y_i - \\beta_0 - \\sum_{j=1}^{p} \\beta_j x_{ij})^2 + \\color{red} {\\alpha_1 \\sum_{j=1}^{p} \\beta_j ^ 2 + \\alpha_2 \\sum_{j=1}^{p} \\ \\bigl| \\ \\beta_j \\ \\bigr| } $$"
   ]
  },
  {
   "cell_type": "markdown",
   "metadata": {},
   "source": [
    "<br/>\n",
    "<br/>\n",
    "\n",
    "## Lasso Regression\n",
    "\n",
    "Lasso Regresion is a shrinkage method that imposes a cost on the absolute values of parameters to drive them towards zero.\n",
    "\n",
    "$$ \\sum_{i=1}^{n} (y_i - \\beta_0 - \\sum_{j=1}^{p} \\beta_j x_{ij})^2 + \\color{red} {\\alpha \\sum_{j=1}^{p} \\ \\bigl| \\ \\beta_j \\ \\bigr|} $$\n",
    "\n",
    "Because Lasso can set some parameters exactly to zero when $\\alpha$ is sufficiently large, it's also effectively doing **feature selection** in the same step, by discarding some features. As a result, Lasso models often result in **sparse** models.\n",
    "\n",
    "\n",
    "In the following experiment, we check Lasso models with various values for $\\alpha$ and check the training R-squared and RMSE values.\n",
    "\n",
    "Notice that as $\\alpha$ becomes large, more and more features get dropped.\n",
    "\n",
    "With $\\alpha >= 0.6$, Lasso consistently drops these 4 features:\n",
    "\n",
    "+ INDUS    proportion of non-retail business acres per town\n",
    "+ CHAS     Charles River dummy variable (= 1 if tract bounds river; 0 otherwise)\n",
    "+ NOX      nitric oxides concentration (parts per 10 million)\n",
    "+ BK       The proportion of blacks (which makes sense because it's highly correlated with B)\n",
    "\n",
    "<br/>\n",
    "\n",
    "**Range of $\\alpha$:**\n",
    "\n",
    "$\\alpha$ can take any value in $[0, \\infty]$. It's not necessary that it's in $[0,1]$.\n",
    "But because it adds to cost, it makes sense that it's usually a small number in $[0,1]$."
   ]
  },
  {
   "cell_type": "code",
   "execution_count": 49,
   "metadata": {
    "collapsed": false
   },
   "outputs": [
    {
     "name": "stdout",
     "output_type": "stream",
     "text": [
      "\n",
      "Lasso with alpha= 0.1\n",
      "\tR2 score= 0.726914693175\n",
      "\tRMSE= 4.80143107781\n",
      "\tCoefficients= [-0.09678792  0.04917922 -0.03642541  0.95709698 -0.          3.69894259\n",
      " -0.01000634 -1.16012114  0.27411189 -0.01456675 -0.77100252  0.01032665\n",
      " -0.56950927  0.        ]\n",
      "\n",
      "Lasso with alpha= 0.2\n",
      "\tR2 score= 0.722766975464\n",
      "\tRMSE= 4.8377565961\n",
      "\tCoefficients= [-0.0946275   0.04955324 -0.02321077  0.         -0.          3.40184619\n",
      " -0.00503097 -1.10295306  0.28122213 -0.01516912 -0.77929963  0.01022905\n",
      " -0.59511384  0.        ]\n",
      "\n",
      "Lasso with alpha= 0.3\n",
      "\tR2 score= 0.720562468174\n",
      "\tRMSE= 4.85695299649\n",
      "\tCoefficients= [ -9.05881706e-02   4.97201161e-02  -1.76515804e-02   0.00000000e+00\n",
      "  -0.00000000e+00   3.09182210e+00  -9.33420115e-04  -1.04019584e+00\n",
      "   2.80048399e-01  -1.52748917e-02  -7.72353814e-01   9.98417006e-03\n",
      "  -6.17479065e-01   0.00000000e+00]\n",
      "\n",
      "Lasso with alpha= 0.4\n",
      "\tR2 score= 0.717759384586\n",
      "\tRMSE= 4.88125265506\n",
      "\tCoefficients= [ -8.66700722e-02   4.94664523e-02  -1.09537236e-02   0.00000000e+00\n",
      "  -0.00000000e+00   2.79998861e+00   2.58863043e-04  -9.94850681e-01\n",
      "   2.78404980e-01  -1.53437657e-02  -7.65893713e-01   9.76933822e-03\n",
      "  -6.35559369e-01   0.00000000e+00]\n",
      "\n",
      "Lasso with alpha= 0.5\n",
      "\tR2 score= 0.713950619704\n",
      "\tRMSE= 4.91407791181\n",
      "\tCoefficients= [-0.0826618   0.04952832 -0.00510944  0.         -0.          2.49450892\n",
      "  0.00363004 -0.93644672  0.27711756 -0.01544047 -0.7590702   0.00953198\n",
      " -0.65685319  0.        ]\n",
      "\n",
      "Lasso with alpha= 0.6\n",
      "\tR2 score= 0.7093029156\n",
      "\tRMSE= 4.95383879844\n",
      "\tCoefficients= [-0.07867916  0.04957162 -0.          0.         -0.          2.18836081\n",
      "  0.00701599 -0.87880463  0.27564179 -0.01551591 -0.75219094  0.00929296\n",
      " -0.67809397  0.        ]\n",
      "\n",
      "Lasso with alpha= 0.7\n",
      "\tR2 score= 0.703868605933\n",
      "\tRMSE= 4.99992808458\n",
      "\tCoefficients= [-0.07486401  0.04947058 -0.          0.         -0.          1.87797324\n",
      "  0.01049375 -0.82635411  0.27277133 -0.01543907 -0.7449429   0.00904251\n",
      " -0.69892859  0.        ]\n",
      "\n",
      "Lasso with alpha= 0.8\n",
      "\tR2 score= 0.697598389818\n",
      "\tRMSE= 5.05258445872\n",
      "\tCoefficients= [-0.07105509  0.04937064 -0.          0.         -0.          1.56754546\n",
      "  0.01397182 -0.77390717  0.26992976 -0.01536338 -0.73770094  0.00879212\n",
      " -0.71976343  0.        ]\n",
      "\n",
      "Lasso with alpha= 0.9\n",
      "\tR2 score= 0.690491975579\n",
      "\tRMSE= 5.11160738402\n",
      "\tCoefficients= [-0.06723953  0.04926976 -0.          0.         -0.          1.25716099\n",
      "  0.01744962 -0.72145816  0.26705581 -0.0152864  -0.73045082  0.00854165\n",
      " -0.7405982   0.        ]\n",
      "\n",
      "Lasso with alpha= 1.0\n",
      "\tR2 score= 0.682549461751\n",
      "\tRMSE= 5.17677829741\n",
      "\tCoefficients= [-0.06342255  0.04916867 -0.          0.         -0.          0.94678567\n",
      "  0.02092737 -0.66900864  0.26417501 -0.01520915 -0.72319901  0.00829117\n",
      " -0.76143296  0.        ]\n"
     ]
    }
   ],
   "source": [
    "alphas = np.linspace(0.1,1.0,10)\n",
    "for alpha in alphas:\n",
    "    print('\\nLasso with alpha=', alpha)\n",
    "    \n",
    "    las = Lasso(alpha = alpha)\n",
    "    las.fit(X_mult, y_actual)\n",
    "    y_pred_las = las.predict(X_mult)\n",
    "    r2 = r2_score(y_actual, y_pred_las)\n",
    "\n",
    "    rmse = np.sqrt(mean_squared_error(y_actual, y_pred_las))\n",
    "\n",
    "    print('\\tR2 score=', r2)\n",
    "    print('\\tRMSE=', rmse)\n",
    "    print('\\tCoefficients=', las.coef_)"
   ]
  },
  {
   "cell_type": "markdown",
   "metadata": {},
   "source": [
    "<br/>\n",
    "\n",
    "## Selecting Lasso parameter using Cross Validation\n",
    "\n",
    "We know that when using k-fold cross validation, we predict values fold by fold, by training a model on all the other folds.\n",
    "\n",
    "But during each training, we also want to find out which is the best value of the Lasso parameter $\\alpha$. \n",
    "\n",
    "So a _second_ level of k-fold cross validation - for finding best $\\alpha$ - is done on each of the training sets of the first level of k-folds.\n",
    "\n",
    "This 2-level cross validation can be easily implemented using the `LassoCV` class. It performs the inner cross validation loop to find best $\\alpha$ ,  given a list of $\\alpha$s to evaluate, or alternatively a step size for $\\alpha$. The application just has to perform the outer cross validation as with any other model."
   ]
  },
  {
   "cell_type": "code",
   "execution_count": 92,
   "metadata": {
    "collapsed": false
   },
   "outputs": [
    {
     "name": "stdout",
     "output_type": "stream",
     "text": [
      "Lasso CV R2 score= 0.695168478988\n",
      "Lasso CV RMSE= 5.07284355231\n",
      "Lasso CV Optimum alpha= 0.445789473684\n"
     ]
    }
   ],
   "source": [
    "# Use Lasso with 5-fold inner cross validation.\n",
    "alphas = np.linspace(0.05,0.99,20)\n",
    "las_cv = LassoCV(alphas=alphas, cv=5)\n",
    "\n",
    "las_cv_outputs = np.zeros_like(y_actual)\n",
    "\n",
    "kf = KFold(len(X_mult), n_folds=5, shuffle=True)\n",
    "\n",
    "for train, test in kf:\n",
    "    las_cv.fit(X_mult.ix[train], y_actual.ix[train])\n",
    "    las_cv_outputs[test] = las_cv.predict(X_mult.ix[test])\n",
    "\n",
    "r2_las_cv = r2_score(y_actual, las_cv_outputs)\n",
    "\n",
    "rmse_las_cv = np.sqrt(mean_squared_error(y_actual, las_cv_outputs))\n",
    "\n",
    "print('Lasso CV R2 score=', r2_las_cv)\n",
    "print('Lasso CV RMSE=', rmse_las_cv)\n",
    "print('Lasso CV Optimum alpha=', las_cv.alpha_)"
   ]
  },
  {
   "cell_type": "markdown",
   "metadata": {},
   "source": [
    "Note that the optimum value changes quite wildly with each run."
   ]
  },
  {
   "cell_type": "markdown",
   "metadata": {},
   "source": [
    "<br/>\n",
    "<br/>\n",
    "## Ridge Regresion\n",
    "\n",
    "Ridge Regresion is another shrinkage method that imposes a cost on the squared values of parameters to drive them towards zero.\n",
    "\n",
    "$$ \\sum_{i=1}^{n} (y_i - \\beta_0 - \\sum_{j=1}^{p} \\beta_j x_{ij})^2 + \\color{red} {\\alpha \\sum_{j=1}^{p} \\beta_j^2} $$"
   ]
  },
  {
   "cell_type": "code",
   "execution_count": 95,
   "metadata": {
    "collapsed": false
   },
   "outputs": [
    {
     "name": "stdout",
     "output_type": "stream",
     "text": [
      "\n",
      "Ridge with alpha= 0.1\n",
      "\tR2 score= 0.74184181992\n",
      "\tRMSE= 4.66836148776\n",
      "\tCoefficients= [ -1.03829832e-01   4.64816099e-02   1.37982202e-02   2.67047259e+00\n",
      "  -1.69935166e+01   3.83723886e+00  -4.04441787e-04  -1.46370312e+00\n",
      "   3.05324406e-01  -1.25358561e-02  -9.30677286e-01  -5.81440674e-03\n",
      "  -5.28013062e-01   1.23110885e+01]\n",
      "\n",
      "Ridge with alpha= 0.2\n",
      "\tR2 score= 0.741470844274\n",
      "\tRMSE= 4.67171452251\n",
      "\tCoefficients= [ -1.04142219e-01   4.66366818e-02   1.04373700e-02   2.65512027e+00\n",
      "  -1.59403442e+01   3.83746327e+00  -1.20809462e-03  -1.44824117e+00\n",
      "   3.02407809e-01  -1.25785535e-02  -9.23079700e-01  -1.31485413e-03\n",
      "  -5.28732923e-01   8.72242308e+00]\n",
      "\n",
      "Ridge with alpha= 0.3\n",
      "\tR2 score= 0.741130991456\n",
      "\tRMSE= 4.67478414517\n",
      "\tCoefficients= [ -1.04153436e-01   4.67694219e-02   7.22175827e-03   2.64051441e+00\n",
      "  -1.50340023e+01   3.83966206e+00  -1.93556816e-03  -1.43491719e+00\n",
      "   3.00051196e-01  -1.26286750e-02  -9.15334560e-01   1.20502351e-03\n",
      "  -5.29524292e-01   6.72585290e+00]\n",
      "\n",
      "Ridge with alpha= 0.4\n",
      "\tR2 score= 0.740814547966\n",
      "\tRMSE= 4.67764051877\n",
      "\tCoefficients= [ -1.04048385e-01   4.68868367e-02   4.24329928e-03   2.62659761e+00\n",
      "  -1.42350834e+01   3.84234611e+00  -2.59132421e-03  -1.42316557e+00\n",
      "   2.98050192e-01  -1.26792112e-02  -9.07976812e-01   2.81792084e-03\n",
      "  -5.30311481e-01   5.45698835e+00]\n",
      "\n",
      "Ridge with alpha= 0.5\n",
      "\tR2 score= 0.740513820069\n",
      "\tRMSE= 4.68035342025\n",
      "\tCoefficients= [ -1.03895159e-01   4.69924854e-02   1.50929892e-03   2.61329433e+00\n",
      "  -1.35216426e+01   3.84500781e+00  -3.18320844e-03  -1.41266853e+00\n",
      "   2.96309054e-01  -1.27279370e-02  -9.01138322e-01   3.93983172e-03\n",
      "  -5.31071225e-01   4.58089970e+00]\n",
      "\n",
      "Ridge with alpha= 0.6\n",
      "\tR2 score= 0.740224963143\n",
      "\tRMSE= 4.68295775253\n",
      "\tCoefficients= [ -1.03723306e-01   4.70885982e-02  -9.95651457e-04   2.60053365e+00\n",
      "  -1.28789548e+01   3.84745549e+00  -3.71896668e-03  -1.40321156e+00\n",
      "   2.94771906e-01  -1.27741361e-02  -8.94830718e-01   4.76593067e-03\n",
      "  -5.31796659e-01   3.94063379e+00]\n",
      "\n",
      "Ridge with alpha= 0.7\n",
      "\tR2 score= 0.73994626755\n",
      "\tRMSE= 4.6854690982\n",
      "\tCoefficients= [ -1.03546884e-01   4.71767442e-02  -3.29265770e-03   2.58825353e+00\n",
      "  -1.22961566e+01   3.84961913e+00  -4.20550315e-03  -1.39463578e+00\n",
      "   2.93401539e-01  -1.28176525e-02  -8.89025729e-01   5.39995414e-03\n",
      "  -5.32486909e-01   3.45289800e+00]\n",
      "\n",
      "Ridge with alpha= 0.8\n",
      "\tR2 score= 0.739677009358\n",
      "\tRMSE= 4.68789412501\n",
      "\tCoefficients= [ -1.03372899e-01   4.72581051e-02  -5.40306627e-03   2.57640071e+00\n",
      "  -1.17648019e+01   3.85148051e+00  -4.64878904e-03  -1.38681737e+00\n",
      "   2.92171055e-01  -1.28585539e-02  -8.83682695e-01   5.90215022e-03\n",
      "  -5.33143420e-01   3.06940834e+00]\n",
      "\n",
      "Ridge with alpha= 0.9\n",
      "\tR2 score= 0.739416876489\n",
      "\tRMSE= 4.69023577537\n",
      "\tCoefficients= [ -1.03204868e-01   4.73336086e-02  -7.34666473e-03   2.56492977e+00\n",
      "  -1.12781107e+01   3.85304441e+00  -5.05394156e-03  -1.37965675e+00\n",
      "   2.91059955e-01  -1.28969961e-02  -8.78758938e-01   6.30991575e-03\n",
      "  -5.33768495e-01   2.76025949e+00]\n",
      "\n",
      "Ridge with alpha= 1.0\n",
      "\tR2 score= 0.73916570189\n",
      "\tRMSE= 4.6924956768\n",
      "\tCoefficients= [ -1.03044478e-01   4.74040039e-02  -9.14118161e-03   2.55380187e+00\n",
      "  -1.08305237e+01   3.85432582e+00  -5.42534034e-03  -1.37307218e+00\n",
      "   2.90052053e-01  -1.29331644e-02  -8.74213776e-01   6.64769837e-03\n",
      "  -5.34364672e-01   2.50594918e+00]\n"
     ]
    }
   ],
   "source": [
    "alphas = np.linspace(0.1,1.0,10)\n",
    "for alpha in alphas:\n",
    "    print('\\nRidge with alpha=', alpha)\n",
    "    \n",
    "    ridge = Ridge(alpha = alpha)\n",
    "    ridge.fit(X_mult, y_actual)\n",
    "    y_pred_ridge = ridge.predict(X_mult)\n",
    "    r2 = r2_score(y_actual, y_pred_ridge)\n",
    "\n",
    "    rmse = np.sqrt(mean_squared_error(y_actual, y_pred_ridge))\n",
    "\n",
    "    print('\\tR2 score=', r2)\n",
    "    print('\\tRMSE=', rmse)\n",
    "    print('\\tCoefficients=', ridge.coef_)"
   ]
  },
  {
   "cell_type": "markdown",
   "metadata": {},
   "source": [
    "<br/>\n",
    "\n",
    "## Selecting Ridge parameter using Cross Validation\n",
    "\n",
    "We know that when using k-fold cross validation, we predict values fold by fold, by training a model on all the other folds.\n",
    "\n",
    "But during each training, we also want to find out which is the best value of the Lasso parameter $\\alpha$. \n",
    "\n",
    "So a _second_ level of k-fold cross validation - for finding best $\\alpha$ - is done on each of the training sets of the first level of k-folds.\n",
    "\n",
    "This 2-level cross validation can be easily implemented using the `RidgeCV` class. It performs the inner cross validation loop to find best $\\alpha$ ,  given a list of $\\alpha$s to evaluate, or alternatively a step size for $\\alpha$. The application just has to perform the outer cross validation as with any other model."
   ]
  },
  {
   "cell_type": "code",
   "execution_count": 98,
   "metadata": {
    "collapsed": false
   },
   "outputs": [
    {
     "name": "stdout",
     "output_type": "stream",
     "text": [
      "Ridge CV R2 score= 0.721299172802\n",
      "Ridge CV RMSE= 4.85054637463\n",
      "Ridge CV Optimum alpha= 0.99\n"
     ]
    }
   ],
   "source": [
    "# Use Ridge with 5-fold inner cross validation.\n",
    "alphas = np.linspace(0.05,0.99,20)\n",
    "ridge_cv = RidgeCV(alphas=alphas, cv=5)\n",
    "\n",
    "ridge_cv_outputs = np.zeros_like(y_actual)\n",
    "\n",
    "kf = KFold(len(X_mult), n_folds=5, shuffle=True)\n",
    "\n",
    "for train, test in kf:\n",
    "    ridge_cv.fit(X_mult.ix[train], y_actual.ix[train])\n",
    "    ridge_cv_outputs[test] = ridge_cv.predict(X_mult.ix[test])\n",
    "\n",
    "r2_ridge_cv = r2_score(y_actual, ridge_cv_outputs)\n",
    "\n",
    "rmse_ridge_cv = np.sqrt(mean_squared_error(y_actual, ridge_cv_outputs))\n",
    "\n",
    "print('Ridge CV R2 score=', r2_ridge_cv)\n",
    "print('Ridge CV RMSE=', rmse_ridge_cv)\n",
    "print('Ridge CV Optimum alpha=', ridge_cv.alpha_)"
   ]
  },
  {
   "cell_type": "markdown",
   "metadata": {},
   "source": [
    "<br/>\n",
    "<br/>\n",
    "## ElasticNet\n",
    "\n",
    "ElasticNet Regresion is another shrinkage method that imposes a cost on both the absolute values and squared values of parameters to drive them towards zero.\n",
    "\n",
    "$$ \\sum_{i=1}^{n} (y_i - \\beta_0 - \\sum_{j=1}^{p} \\beta_j x_{ij})^2 + \\color{red} {\\alpha_1 \\sum_{j=1}^{p} \\ \\bigl| \\ \\beta_j \\ \\bigr| + \\alpha_2 \\sum_{j=1}^{p} \\beta_j ^ 2} $$\n",
    "\n",
    "$\\alpha_1$ and $\\alpha_2$ are themselves related through 2 other parameters $\\rho$, the $l_1$-ratio and $\\alpha$ as follows:\n",
    "$$ \\alpha_1 = \\rho \\alpha $$\n",
    "\n",
    "$$ \\alpha_2 = (1 - \\rho) \\alpha $$\n",
    "\n",
    "$\\rho$ is a parameter to scale L1 vs L2 penalty:\n",
    "+ If $\\rho$ is 0, it's the same as Ridge regression.\n",
    "\n",
    "+ If $\\rho$ is 1, it's the same as Lasso regression\n",
    "\n",
    "+ If $\\rho$ is between 0 and 1, both penalties are included."
   ]
  },
  {
   "cell_type": "code",
   "execution_count": 99,
   "metadata": {
    "collapsed": false
   },
   "outputs": [
    {
     "name": "stdout",
     "output_type": "stream",
     "text": [
      "\n",
      "ElasticNet with alpha= 0.1\n",
      "\tR2 score= 0.70347039007\n",
      "\tRMSE= 5.00328872417\n",
      "\tCoefficients= [-0.09797628  0.05538955 -0.04710799  0.24585173 -0.          1.4971837\n",
      "  0.01175821 -1.00471604  0.32658443 -0.01654738 -0.8183485   0.0089031\n",
      " -0.71927909  0.        ]\n",
      "\n",
      "ElasticNet with alpha= 0.2\n",
      "\tR2 score= 0.70347039007\n",
      "\tRMSE= 5.00328872417\n",
      "\tCoefficients= [-0.09797628  0.05538955 -0.04710799  0.24585173 -0.          1.4971837\n",
      "  0.01175821 -1.00471604  0.32658443 -0.01654738 -0.8183485   0.0089031\n",
      " -0.71927909  0.        ]\n",
      "\n",
      "ElasticNet with alpha= 0.3\n",
      "\tR2 score= 0.70347039007\n",
      "\tRMSE= 5.00328872417\n",
      "\tCoefficients= [-0.09797628  0.05538955 -0.04710799  0.24585173 -0.          1.4971837\n",
      "  0.01175821 -1.00471604  0.32658443 -0.01654738 -0.8183485   0.0089031\n",
      " -0.71927909  0.        ]\n",
      "\n",
      "ElasticNet with alpha= 0.4\n",
      "\tR2 score= 0.70347039007\n",
      "\tRMSE= 5.00328872417\n",
      "\tCoefficients= [-0.09797628  0.05538955 -0.04710799  0.24585173 -0.          1.4971837\n",
      "  0.01175821 -1.00471604  0.32658443 -0.01654738 -0.8183485   0.0089031\n",
      " -0.71927909  0.        ]\n",
      "\n",
      "ElasticNet with alpha= 0.5\n",
      "\tR2 score= 0.70347039007\n",
      "\tRMSE= 5.00328872417\n",
      "\tCoefficients= [-0.09797628  0.05538955 -0.04710799  0.24585173 -0.          1.4971837\n",
      "  0.01175821 -1.00471604  0.32658443 -0.01654738 -0.8183485   0.0089031\n",
      " -0.71927909  0.        ]\n",
      "\n",
      "ElasticNet with alpha= 0.6\n",
      "\tR2 score= 0.70347039007\n",
      "\tRMSE= 5.00328872417\n",
      "\tCoefficients= [-0.09797628  0.05538955 -0.04710799  0.24585173 -0.          1.4971837\n",
      "  0.01175821 -1.00471604  0.32658443 -0.01654738 -0.8183485   0.0089031\n",
      " -0.71927909  0.        ]\n",
      "\n",
      "ElasticNet with alpha= 0.7\n",
      "\tR2 score= 0.70347039007\n",
      "\tRMSE= 5.00328872417\n",
      "\tCoefficients= [-0.09797628  0.05538955 -0.04710799  0.24585173 -0.          1.4971837\n",
      "  0.01175821 -1.00471604  0.32658443 -0.01654738 -0.8183485   0.0089031\n",
      " -0.71927909  0.        ]\n",
      "\n",
      "ElasticNet with alpha= 0.8\n",
      "\tR2 score= 0.70347039007\n",
      "\tRMSE= 5.00328872417\n",
      "\tCoefficients= [-0.09797628  0.05538955 -0.04710799  0.24585173 -0.          1.4971837\n",
      "  0.01175821 -1.00471604  0.32658443 -0.01654738 -0.8183485   0.0089031\n",
      " -0.71927909  0.        ]\n",
      "\n",
      "ElasticNet with alpha= 0.9\n",
      "\tR2 score= 0.70347039007\n",
      "\tRMSE= 5.00328872417\n",
      "\tCoefficients= [-0.09797628  0.05538955 -0.04710799  0.24585173 -0.          1.4971837\n",
      "  0.01175821 -1.00471604  0.32658443 -0.01654738 -0.8183485   0.0089031\n",
      " -0.71927909  0.        ]\n",
      "\n",
      "ElasticNet with alpha= 1.0\n",
      "\tR2 score= 0.70347039007\n",
      "\tRMSE= 5.00328872417\n",
      "\tCoefficients= [-0.09797628  0.05538955 -0.04710799  0.24585173 -0.          1.4971837\n",
      "  0.01175821 -1.00471604  0.32658443 -0.01654738 -0.8183485   0.0089031\n",
      " -0.71927909  0.        ]\n"
     ]
    }
   ],
   "source": [
    "alphas = np.linspace(0.1,1.0,10)\n",
    "for alpha in alphas:\n",
    "    print('\\nElasticNet with alpha=', alpha)\n",
    "    \n",
    "    en = ElasticNet(alpha=0.5, l1_ratio=0.1)\n",
    "    en.fit(X_mult, y_actual)\n",
    "    y_pred_en = en.predict(X_mult)\n",
    "    r2 = r2_score(y_actual, y_pred_en)\n",
    "\n",
    "    rmse = np.sqrt(mean_squared_error(y_actual, y_pred_en))\n",
    "\n",
    "    print('\\tR2 score=', r2)\n",
    "    print('\\tRMSE=', rmse)\n",
    "    print('\\tCoefficients=', en.coef_)"
   ]
  },
  {
   "cell_type": "markdown",
   "metadata": {},
   "source": [
    "<br/>\n",
    "\n",
    "## Selecting ElasticNet parameters using Cross Validation\n",
    "\n",
    "We know that when using k-fold cross validation, we predict values fold by fold, by training a model on all the other folds.\n",
    "\n",
    "But during each training, we also want to find out which is the best values for the ElasticNet parameters $\\rho$ and $\\alpha$. \n",
    "\n",
    "So a _second_ level of k-fold cross validation - for finding best $\\rho$ and $\\alpha$ - is done on each of the training sets of the first level of k-folds.\n",
    "\n",
    "This 2-level cross validation can be easily implemented using the `ElasticNetCV` class. It performs the inner cross validation loop to find best $\\alpha$ ,  given a list of $\\alpha$s to evaluate, or alternatively a step size for $\\alpha$. The application just has to perform the outer cross validation as with any other model."
   ]
  },
  {
   "cell_type": "code",
   "execution_count": 108,
   "metadata": {
    "collapsed": false
   },
   "outputs": [
    {
     "name": "stdout",
     "output_type": "stream",
     "text": [
      "ElasticNet CV R2 score= 0.688291818942\n",
      "ElasticNet CV RMSE= 5.1297432972\n",
      "ElasticNet CV Optimum alpha= 0.594210526316\n",
      "ElasticNet CV Optimum l1-ratio rho= 0.3\n"
     ]
    }
   ],
   "source": [
    "# Use ElasticNet with 5-fold inner cross validation.\n",
    "alphas = np.linspace(0.05,0.99,20)\n",
    "\n",
    "# Sklearn docs recommend that the L1-ratio search space be denser towards Lasso than towards Ridge\n",
    "l1_ratios = [0.1, 0.3, 0.5, 0.7, 0.8, 0.9, 0.95, 0.99]\n",
    "en_cv = ElasticNetCV(l1_ratio = l1_ratios, alphas = alphas)\n",
    "\n",
    "en_cv_outputs = np.zeros_like(y_actual)\n",
    "\n",
    "kf = KFold(len(X_mult), n_folds=5, shuffle=True)\n",
    "\n",
    "for train, test in kf:\n",
    "    en_cv.fit(X_mult.ix[train], y_actual.ix[train])\n",
    "    en_cv_outputs[test] = en_cv.predict(X_mult.ix[test])\n",
    "\n",
    "r2_en_cv = r2_score(y_actual, en_cv_outputs)\n",
    "\n",
    "rmse_en_cv = np.sqrt(mean_squared_error(y_actual, en_cv_outputs))\n",
    "\n",
    "print('ElasticNet CV R2 score=', r2_en_cv)\n",
    "print('ElasticNet CV RMSE=', rmse_en_cv)\n",
    "print('ElasticNet CV Optimum alpha=', en_cv.alpha_)\n",
    "print('ElasticNet CV Optimum l1-ratio rho=', en_cv.l1_ratio_)"
   ]
  },
  {
   "cell_type": "markdown",
   "metadata": {},
   "source": [
    "**Plot of ElasticNet predictions vs actual prices:**\n",
    "\n",
    "The diagonal line represents perfect fit line."
   ]
  },
  {
   "cell_type": "code",
   "execution_count": 109,
   "metadata": {
    "collapsed": false
   },
   "outputs": [
    {
     "data": {
      "image/png": "[encoded data removed]",
      "text/plain": [
       "<matplotlib.figure.Figure at 0x7f0d2858e390>"
      ]
     },
     "metadata": {},
     "output_type": "display_data"
    }
   ],
   "source": [
    "plt.figure(figsize=(9,9))\n",
    "plt.scatter(en_cv_outputs, y_actual)\n",
    "plt.plot([en_cv_outputs.min(), en_cv_outputs.max()], [en_cv_outputs.min(), en_cv_outputs.max()])\n",
    "plt.show()"
   ]
  },
  {
   "cell_type": "markdown",
   "metadata": {},
   "source": [
    "<br/>\n",
    "<br/>\n",
    "\n",
    "## Using Grid Search for hyperparameter tuning\n",
    "\n",
    "TODO how to use grid search for tuning of Lasso, Ridge and ElasticNets"
   ]
  },
  {
   "cell_type": "markdown",
   "metadata": {},
   "source": [
    "\n",
    "<br/>\n",
    "<br/>\n",
    "\n",
    "## Conclusions\n",
    "\n",
    "ElasticNet with hyperparameter optimization should probably be the default regression model for any problem.\n",
    "\n",
    "But check Lasso too, because it does feature selection and gives a sparse model. This information too may be useful in itself."
   ]
  },
  {
   "cell_type": "markdown",
   "metadata": {},
   "source": [
    "<br/>\n",
    "<br/>\n",
    "<br/>\n",
    "## References:\n",
    "\n",
    "+ [Hedonic Housing Prices and the Demand for Clean Air1](http://www.colorado.edu/ibs/crs/workshops/R_1-11-2012/root/Harrison_1978.pdf) is the original paper for which this dataset was created. It has much more detailed descriptions for all variables in the tables towards the end of the paper. Some descriptions are quite interesting...for example, they say price has a parabolic relationship with proportion of blacks.\n",
    "\n",
    "<br/>\n",
    "\n",
    "+ [Boston Housing Prices EDA in R](http://rstudio-pubs-static.s3.amazonaws.com/91640_0229aaabe3af464fb849a031e79a66b0.html)\n",
    "\n",
    "<br/>\n",
    "\n",
    "+ [Robert Nau's notes on regression and forecasting](http://people.duke.edu/~rnau/regintro.htm) - Very detailed explanations and intuition on linear regression."
   ]
  },
  {
   "cell_type": "code",
   "execution_count": null,
   "metadata": {
    "collapsed": true
   },
   "outputs": [],
   "source": []
  }
 ],
 "metadata": {
  "kernelspec": {
   "display_name": "Python 3",
   "language": "python",
   "name": "python3"
  },
  "language_info": {
   "codemirror_mode": {
    "name": "ipython",
    "version": 3
   },
   "file_extension": ".py",
   "mimetype": "text/x-python",
   "name": "python",
   "nbconvert_exporter": "python",
   "pygments_lexer": "ipython3",
   "version": "3.5.1"
  }
 },
 "nbformat": 4,
 "nbformat_minor": 0
}
