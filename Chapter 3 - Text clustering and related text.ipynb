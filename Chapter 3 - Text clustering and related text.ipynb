{
 "cells": [
  {
   "cell_type": "markdown",
   "metadata": {},
   "source": [
    "<h1 align=\"center\">Text Clustering</h1>\n",
    "\n",
    "## Introduction\n",
    "\n",
    "This chapter is about the technique of *clustering* to solve the problem of finding related text documents.\n",
    "\n",
    "*Clustering* is an *unsupervised* learning method, called so because there are no labels for the training set. There may be many reasons for not having labels - giving definitive labels may not be possible, or the cost and time required for labelling the set may be too high, or the volume of data may be too high.\n",
    "\n",
    "In such scenarios, clustering is used to let the data describe itself, and use some suitable similarity metric to calculate which cluster a sample belongs to."
   ]
  },
  {
   "cell_type": "markdown",
   "metadata": {},
   "source": [
    "## Clustering Example\n",
    "\n",
    "In this workbook, we run clustering algorithms on the posts contained in sklearn's [20 newsgroups](http://scikit-learn.org/stable/datasets/twenty_newsgroups.html) inbuilt dataset. Since we already know the newsgroups to which each post belongs, it's possible to evaluate the effectiveness of these unsupervised clustering algorithms in matching reality."
   ]
  },
  {
   "cell_type": "code",
   "execution_count": 83,
   "metadata": {
    "collapsed": false,
    "scrolled": true
   },
   "outputs": [],
   "source": [
    "%matplotlib inline\n",
    "\n",
    "import numpy as np\n",
    "import scipy as sp\n",
    "import sklearn\n",
    "from sklearn.cluster import KMeans\n",
    "from sklearn.feature_extraction.text import CountVectorizer, TfidfVectorizer\n",
    "from sklearn.feature_extraction import stop_words\n",
    "\n",
    "import nltk\n",
    "from nltk.stem import PorterStemmer\n",
    "\n",
    "from sklearn.datasets import fetch_20newsgroups\n",
    "\n",
    "import pandas as pd\n",
    "\n",
    "import matplotlib as mpl\n",
    "import matplotlib.pyplot as plt\n",
    "\n",
    "import seaborn as sns\n",
    "\n",
    "from pprint import pprint"
   ]
  },
  {
   "cell_type": "code",
   "execution_count": 60,
   "metadata": {
    "collapsed": false
   },
   "outputs": [
    {
     "name": "stdout",
     "output_type": "stream",
     "text": [
      "Number of training posts: 11314\n",
      "Number of testing posts: 7532\n"
     ]
    }
   ],
   "source": [
    "training_data = fetch_20newsgroups(subset='train')\n",
    "testing_data = fetch_20newsgroups(subset='test')\n",
    "\n",
    "train_posts = training_data['data']\n",
    "test_posts = testing_data['data']\n",
    "\n",
    "print(\"Number of training posts:\", len(train_posts))\n",
    "print(\"Number of testing posts:\", len(test_posts))"
   ]
  },
  {
   "cell_type": "markdown",
   "metadata": {},
   "source": [
    "<br>\n",
    "## Exploring the dataset\n",
    "\n",
    "The dataset consists of posts of 20 newsgroups.\n",
    "\n",
    "First, we explore the number of posts in each newsgroup by creating a pandas DataFrame for easy visualization and manipulation."
   ]
  },
  {
   "cell_type": "code",
   "execution_count": 61,
   "metadata": {
    "collapsed": false
   },
   "outputs": [
    {
     "data": {
      "text/html": [
       "<div>\n",
       "<table border=\"1\" class=\"dataframe\">\n",
       "  <thead>\n",
       "    <tr style=\"text-align: right;\">\n",
       "      <th></th>\n",
       "      <th>newsgroup</th>\n",
       "      <th>posts</th>\n",
       "    </tr>\n",
       "  </thead>\n",
       "  <tbody>\n",
       "    <tr>\n",
       "      <th>0</th>\n",
       "      <td>alt.atheism</td>\n",
       "      <td>480</td>\n",
       "    </tr>\n",
       "    <tr>\n",
       "      <th>1</th>\n",
       "      <td>comp.graphics</td>\n",
       "      <td>584</td>\n",
       "    </tr>\n",
       "    <tr>\n",
       "      <th>2</th>\n",
       "      <td>comp.os.ms-windows.misc</td>\n",
       "      <td>591</td>\n",
       "    </tr>\n",
       "    <tr>\n",
       "      <th>3</th>\n",
       "      <td>comp.sys.ibm.pc.hardware</td>\n",
       "      <td>590</td>\n",
       "    </tr>\n",
       "    <tr>\n",
       "      <th>4</th>\n",
       "      <td>comp.sys.mac.hardware</td>\n",
       "      <td>578</td>\n",
       "    </tr>\n",
       "    <tr>\n",
       "      <th>5</th>\n",
       "      <td>comp.windows.x</td>\n",
       "      <td>593</td>\n",
       "    </tr>\n",
       "    <tr>\n",
       "      <th>6</th>\n",
       "      <td>misc.forsale</td>\n",
       "      <td>585</td>\n",
       "    </tr>\n",
       "    <tr>\n",
       "      <th>7</th>\n",
       "      <td>rec.autos</td>\n",
       "      <td>594</td>\n",
       "    </tr>\n",
       "    <tr>\n",
       "      <th>8</th>\n",
       "      <td>rec.motorcycles</td>\n",
       "      <td>598</td>\n",
       "    </tr>\n",
       "    <tr>\n",
       "      <th>9</th>\n",
       "      <td>rec.sport.baseball</td>\n",
       "      <td>597</td>\n",
       "    </tr>\n",
       "    <tr>\n",
       "      <th>10</th>\n",
       "      <td>rec.sport.hockey</td>\n",
       "      <td>600</td>\n",
       "    </tr>\n",
       "    <tr>\n",
       "      <th>11</th>\n",
       "      <td>sci.crypt</td>\n",
       "      <td>595</td>\n",
       "    </tr>\n",
       "    <tr>\n",
       "      <th>12</th>\n",
       "      <td>sci.electronics</td>\n",
       "      <td>591</td>\n",
       "    </tr>\n",
       "    <tr>\n",
       "      <th>13</th>\n",
       "      <td>sci.med</td>\n",
       "      <td>594</td>\n",
       "    </tr>\n",
       "    <tr>\n",
       "      <th>14</th>\n",
       "      <td>sci.space</td>\n",
       "      <td>593</td>\n",
       "    </tr>\n",
       "    <tr>\n",
       "      <th>15</th>\n",
       "      <td>soc.religion.christian</td>\n",
       "      <td>599</td>\n",
       "    </tr>\n",
       "    <tr>\n",
       "      <th>16</th>\n",
       "      <td>talk.politics.guns</td>\n",
       "      <td>546</td>\n",
       "    </tr>\n",
       "    <tr>\n",
       "      <th>17</th>\n",
       "      <td>talk.politics.mideast</td>\n",
       "      <td>564</td>\n",
       "    </tr>\n",
       "    <tr>\n",
       "      <th>18</th>\n",
       "      <td>talk.politics.misc</td>\n",
       "      <td>465</td>\n",
       "    </tr>\n",
       "    <tr>\n",
       "      <th>19</th>\n",
       "      <td>talk.religion.misc</td>\n",
       "      <td>377</td>\n",
       "    </tr>\n",
       "  </tbody>\n",
       "</table>\n",
       "</div>"
      ],
      "text/plain": [
       "                   newsgroup  posts\n",
       "0                alt.atheism    480\n",
       "1              comp.graphics    584\n",
       "2    comp.os.ms-windows.misc    591\n",
       "3   comp.sys.ibm.pc.hardware    590\n",
       "4      comp.sys.mac.hardware    578\n",
       "5             comp.windows.x    593\n",
       "6               misc.forsale    585\n",
       "7                  rec.autos    594\n",
       "8            rec.motorcycles    598\n",
       "9         rec.sport.baseball    597\n",
       "10          rec.sport.hockey    600\n",
       "11                 sci.crypt    595\n",
       "12           sci.electronics    591\n",
       "13                   sci.med    594\n",
       "14                 sci.space    593\n",
       "15    soc.religion.christian    599\n",
       "16        talk.politics.guns    546\n",
       "17     talk.politics.mideast    564\n",
       "18        talk.politics.misc    465\n",
       "19        talk.religion.misc    377"
      ]
     },
     "execution_count": 61,
     "metadata": {},
     "output_type": "execute_result"
    }
   ],
   "source": [
    "df = pd.DataFrame(data={'newsgroup':training_data['target_names'], 'posts' : np.bincount(training_data['target'])})\n",
    "df"
   ]
  },
  {
   "cell_type": "code",
   "execution_count": 81,
   "metadata": {
    "collapsed": false
   },
   "outputs": [
    {
     "data": {
      "image/png": "[encoded data removed]",
      "text/plain": [
       "<matplotlib.figure.Figure at 0x7f6c940d1b70>"
      ]
     },
     "metadata": {},
     "output_type": "display_data"
    }
   ],
   "source": [
    "ax = df.plot(title='Number of posts by newsgroup', kind='bar',  figsize=(14,8), use_index=False, legend=False, \n",
    "             ylim=(0,700))\n",
    "\n",
    "ax.set_xticklabels(df.newsgroup, rotation=330, ha='left')\n",
    "\n",
    "plt.show()"
   ]
  },
  {
   "cell_type": "markdown",
   "metadata": {},
   "source": [
    "Here's what a couple of posts look like. Observe that a lot of the metadata fields at top contain noise words that can be completely stripped out."
   ]
  },
  {
   "cell_type": "code",
   "execution_count": 94,
   "metadata": {
    "collapsed": false
   },
   "outputs": [
    {
     "name": "stdout",
     "output_type": "stream",
     "text": [
      "From: lerxst@wam.umd.edu (where's my thing)\n",
      "Subject: WHAT car is this!?\n",
      "Nntp-Posting-Host: rac3.wam.umd.edu\n",
      "Organization: University of Maryland, College Park\n",
      "Lines: 15\n",
      "\n",
      " I was wondering if anyone out there could enlighten me on this car I saw\n",
      "the other day. It was a 2-door sports car, looked to be from the late 60s/\n",
      "early 70s. It was called a Bricklin. The doors were really small. In addition,\n",
      "the front bumper was separate from the rest of the body. This is \n",
      "all I know. If anyone can tellme a model name, engine specs, years\n",
      "of production, where this car is made, history, or whatever info you\n",
      "have on this funky looking car, please e-mail.\n",
      "\n",
      "Thanks,\n",
      "- IL\n",
      "   ---- brought to you by your neighborhood Lerxst ----\n",
      "\n",
      "\n",
      "\n",
      "\n",
      "==============\n",
      "\n",
      "\n",
      "From: guykuo@carson.u.washington.edu (Guy Kuo)\n",
      "Subject: SI Clock Poll - Final Call\n",
      "Summary: Final call for SI clock reports\n",
      "Keywords: SI,acceleration,clock,upgrade\n",
      "Article-I.D.: shelley.1qvfo9INNc3s\n",
      "Organization: University of Washington\n",
      "Lines: 11\n",
      "NNTP-Posting-Host: carson.u.washington.edu\n",
      "\n",
      "A fair number of brave souls who upgraded their SI clock oscillator have\n",
      "shared their experiences for this poll. Please send a brief message detailing\n",
      "your experiences with the procedure. Top speed attained, CPU rated speed,\n",
      "add on cards and adapters, heat sinks, hour of usage per day, floppy disk\n",
      "functionality with 800 and 1.4 m floppies are especially requested.\n",
      "\n",
      "I will be summarizing in the next two days, so please add to the network\n",
      "knowledge base if you have done the clock upgrade and haven't answered this\n",
      "poll. Thanks.\n",
      "\n",
      "Guy Kuo <guykuo@u.washington.edu>\n",
      "\n"
     ]
    }
   ],
   "source": [
    "print('==============\\n\\n\\n'.join(train_posts[:2]))"
   ]
  },
  {
   "cell_type": "markdown",
   "metadata": {},
   "source": [
    "<br/>\n",
    "## Extracting features from text documents ##\n",
    "\n",
    "A couple of ways to extract features from text documents for the purpose of clustering:\n",
    "\n",
    "+ treat a document as unordered **bag of words**\n",
    "\n",
    "+ use presence or absence of each word as a (boolean/binary) feature \n",
    "\n",
    "+ use frequencies (ie, counts) of words as features\n",
    "\n",
    "+ use frequencies of words in each document, but scaled inversely by their occurrence across all documents in the corpus. This is called **TF-IDF** ( *T*erm *F*requency - *I*nverse *D*ocument *F*requency)\n",
    "\n",
    "+ use combinations of words, instead of single words - termed as bigrams, trigrams and n-grams."
   ]
  },
  {
   "cell_type": "markdown",
   "metadata": {},
   "source": [
    "### <span style=\"color:green\">Count vectors as features</span>"
   ]
  },
  {
   "cell_type": "code",
   "execution_count": 48,
   "metadata": {
    "collapsed": false
   },
   "outputs": [
    {
     "name": "stdout",
     "output_type": "stream",
     "text": [
      "(11314, 130107)\n"
     ]
    }
   ],
   "source": [
    "count_vec = CountVectorizer()\n",
    "\n",
    "train_counts = count_vec.fit_transform(train_posts)\n",
    "\n",
    "words = count_vec.get_feature_names()\n",
    "\n",
    "print(train_counts.shape)"
   ]
  },
  {
   "cell_type": "markdown",
   "metadata": {},
   "source": [
    "Most of the tokenized words are in fact meaningless, and can probably be thrown away. \n",
    "\n",
    "For example, the first twenty to thirty thousand words are all meaningless ones like these:"
   ]
  },
  {
   "cell_type": "code",
   "execution_count": 47,
   "metadata": {
    "collapsed": false
   },
   "outputs": [
    {
     "data": {
      "text/plain": [
       "array(['111919', '8yx_g6', '153959', '1481', '151834', '323', '710e',\n",
       "       '_charts', '1q2', '1sq20h', '4045', '1qcq4ginn2q7', '7w6', '060043',\n",
       "       '_bxph6q', '65952', '324', '1achzd88zd88o', '9yxp', '1204', '5pc',\n",
       "       '25hd', '3eu', '0p0e', '600cc', '3dh4', '0p9c', '214902', '8qds6',\n",
       "       'a3mk', '8rlk', '6ecqm', '171354', '0936', '34tuiw', '9028', '80d',\n",
       "       '06ku', '2sk', '24e2r4e', '130mph', '6f_q', '1qjipo', '7330',\n",
       "       '1152x900', '734810202', '2rz', '_active_', '5099en24', '6805'], \n",
       "      dtype='<U81')"
      ]
     },
     "execution_count": 47,
     "metadata": {},
     "output_type": "execute_result"
    }
   ],
   "source": [
    "np.random.choice(words[0:25000], 50)"
   ]
  },
  {
   "cell_type": "code",
   "execution_count": 96,
   "metadata": {
    "collapsed": false
   },
   "outputs": [
    {
     "name": "stdout",
     "output_type": "stream",
     "text": [
      "(7532, 130107)\n"
     ]
    }
   ],
   "source": [
    "test_counts = count_vec.transform(test_posts)\n",
    "\n",
    "print(test_counts.shape)"
   ]
  },
  {
   "cell_type": "code",
   "execution_count": 97,
   "metadata": {
    "collapsed": false
   },
   "outputs": [
    {
     "name": "stderr",
     "output_type": "stream",
     "text": [
      "/home/karthik/work/anaconda3/lib/python3.5/site-packages/sklearn/utils/validation.py:420: DataConversionWarning: Data with input dtype int64 was converted to float64.\n",
      "  warnings.warn(msg, DataConversionWarning)\n"
     ]
    },
    {
     "data": {
      "text/plain": [
       "array([0, 0], dtype=int32)"
      ]
     },
     "execution_count": 97,
     "metadata": {},
     "output_type": "execute_result"
    }
   ],
   "source": [
    "km = KMeans()\n",
    "km.fit(train_counts)\n",
    "\n",
    "km.predict(test_counts[:2])"
   ]
  },
  {
   "cell_type": "markdown",
   "metadata": {},
   "source": [
    "# TODO\n",
    "\n",
    "  + Levenshtein vs Bag of words\n",
    "  + Word count vectors\n",
    "  + CountVectorizer, ngram_range, max_df, max_features\n",
    "  + coo_matrix sparse matrix\n",
    "  + Euclidean and other distance metrics - cosine, pearson, jaccard\n",
    "  + normalized counts\n",
    "  + stop words inbuilt in CountVectorizer\n",
    "  + stemming of words using nltk\n",
    "  + How to avoid the problem of higher count implying more importance, by calculating TF-IDF score\n",
    "  + Drawbacks of bag of words approach\n",
    "  + Flat clustering vs hierarchical clustering\n",
    "  + algorithms in sklearn.cluster module\n",
    "  + KMeans, number of clusters"
   ]
  },
  {
   "cell_type": "code",
   "execution_count": null,
   "metadata": {
    "collapsed": true
   },
   "outputs": [],
   "source": []
  }
 ],
 "metadata": {
  "kernelspec": {
   "display_name": "Python 3",
   "language": "python",
   "name": "python3"
  },
  "language_info": {
   "codemirror_mode": {
    "name": "ipython",
    "version": 3
   },
   "file_extension": ".py",
   "mimetype": "text/x-python",
   "name": "python",
   "nbconvert_exporter": "python",
   "pygments_lexer": "ipython3",
   "version": "3.5.1"
  }
 },
 "nbformat": 4,
 "nbformat_minor": 0
}
